{
 "cells": [
  {
   "cell_type": "code",
   "execution_count": 5,
   "metadata": {},
   "outputs": [],
   "source": [
    "import pandas as pd\n",
    "import plotly.graph_objs as go"
   ]
  },
  {
   "cell_type": "code",
<<<<<<< HEAD
   "execution_count": 46,
   "metadata": {},
   "outputs": [
    {
     "data": {
      "text/plain": [
       "(50, 17)"
      ]
     },
     "execution_count": 46,
     "metadata": {},
     "output_type": "execute_result"
    }
   ],
   "source": [
    "df2 = pd.read_csv('../assets/usa-2011-agriculture.csv')\n",
    "df2.shape"
   ]
  },
  {
   "cell_type": "code",
   "execution_count": 47,
   "metadata": {},
   "outputs": [
    {
     "data": {
      "text/html": [
       "<div>\n",
       "<style scoped>\n",
       "    .dataframe tbody tr th:only-of-type {\n",
       "        vertical-align: middle;\n",
       "    }\n",
       "\n",
       "    .dataframe tbody tr th {\n",
       "        vertical-align: top;\n",
       "    }\n",
       "\n",
       "    .dataframe thead th {\n",
       "        text-align: right;\n",
       "    }\n",
       "</style>\n",
       "<table border=\"1\" class=\"dataframe\">\n",
       "  <thead>\n",
       "    <tr style=\"text-align: right;\">\n",
       "      <th></th>\n",
       "      <th>DataType</th>\n",
       "    </tr>\n",
       "  </thead>\n",
       "  <tbody>\n",
       "    <tr>\n",
       "      <th>code</th>\n",
       "      <td>object</td>\n",
       "    </tr>\n",
       "    <tr>\n",
       "      <th>state</th>\n",
       "      <td>object</td>\n",
       "    </tr>\n",
       "    <tr>\n",
       "      <th>category</th>\n",
       "      <td>object</td>\n",
       "    </tr>\n",
       "    <tr>\n",
       "      <th>total exports</th>\n",
       "      <td>float64</td>\n",
       "    </tr>\n",
       "    <tr>\n",
       "      <th>beef</th>\n",
       "      <td>float64</td>\n",
       "    </tr>\n",
       "    <tr>\n",
       "      <th>pork</th>\n",
       "      <td>float64</td>\n",
       "    </tr>\n",
       "    <tr>\n",
       "      <th>poultry</th>\n",
       "      <td>float64</td>\n",
       "    </tr>\n",
       "    <tr>\n",
       "      <th>dairy</th>\n",
       "      <td>float64</td>\n",
       "    </tr>\n",
       "    <tr>\n",
       "      <th>fruits fresh</th>\n",
       "      <td>float64</td>\n",
       "    </tr>\n",
       "    <tr>\n",
       "      <th>fruits proc</th>\n",
       "      <td>float64</td>\n",
       "    </tr>\n",
       "    <tr>\n",
       "      <th>total fruits</th>\n",
       "      <td>float64</td>\n",
       "    </tr>\n",
       "    <tr>\n",
       "      <th>veggies fresh</th>\n",
       "      <td>float64</td>\n",
       "    </tr>\n",
       "    <tr>\n",
       "      <th>veggies proc</th>\n",
       "      <td>float64</td>\n",
       "    </tr>\n",
       "    <tr>\n",
       "      <th>total veggies</th>\n",
       "      <td>float64</td>\n",
       "    </tr>\n",
       "    <tr>\n",
       "      <th>corn</th>\n",
       "      <td>float64</td>\n",
       "    </tr>\n",
       "    <tr>\n",
       "      <th>wheat</th>\n",
       "      <td>float64</td>\n",
       "    </tr>\n",
       "    <tr>\n",
       "      <th>cotton</th>\n",
       "      <td>float64</td>\n",
       "    </tr>\n",
       "  </tbody>\n",
       "</table>\n",
       "</div>"
      ],
      "text/plain": [
       "              DataType\n",
       "code            object\n",
       "state           object\n",
       "category        object\n",
       "total exports  float64\n",
       "beef           float64\n",
       "pork           float64\n",
       "poultry        float64\n",
       "dairy          float64\n",
       "fruits fresh   float64\n",
       "fruits proc    float64\n",
       "total fruits   float64\n",
       "veggies fresh  float64\n",
       "veggies proc   float64\n",
       "total veggies  float64\n",
       "corn           float64\n",
       "wheat          float64\n",
       "cotton         float64"
      ]
     },
     "execution_count": 47,
     "metadata": {},
     "output_type": "execute_result"
    }
   ],
   "source": [
    "# read in the data\n",
    "\n",
    "df = pd.read_csv('../assets/us_world_export_data_2022.csv')\n",
    "pd.DataFrame(df2.dtypes, columns=[\"DataType\"])"
   ]
  },
  {
   "cell_type": "code",
   "execution_count": 12,
   "metadata": {},
   "outputs": [
    {
     "data": {
      "text/html": [
       "<div>\n",
       "<style scoped>\n",
       "    .dataframe tbody tr th:only-of-type {\n",
       "        vertical-align: middle;\n",
       "    }\n",
       "\n",
       "    .dataframe tbody tr th {\n",
       "        vertical-align: top;\n",
       "    }\n",
       "\n",
       "    .dataframe thead th {\n",
       "        text-align: right;\n",
       "    }\n",
       "</style>\n",
       "<table border=\"1\" class=\"dataframe\">\n",
       "  <thead>\n",
       "    <tr style=\"text-align: right;\">\n",
       "      <th></th>\n",
       "      <th>State</th>\n",
       "      <th>Commodity</th>\n",
       "      <th>Commodity name</th>\n",
       "      <th>Country</th>\n",
       "      <th>Dollar value</th>\n",
       "      <th>Fiscal year</th>\n",
       "      <th>Fiscal quarter</th>\n",
       "      <th>Trade type</th>\n",
       "      <th>Fiscal quarter description</th>\n",
       "    </tr>\n",
       "  </thead>\n",
       "  <tbody>\n",
       "    <tr>\n",
       "      <th>0</th>\n",
       "      <td>AK</td>\n",
       "      <td>0095AT</td>\n",
       "      <td>Live animals</td>\n",
       "      <td>World</td>\n",
       "      <td>50000</td>\n",
       "      <td>2022</td>\n",
       "      <td>1</td>\n",
       "      <td>Exports</td>\n",
       "      <td>Fiscal Quarter 1</td>\n",
       "    </tr>\n",
       "    <tr>\n",
       "      <th>1</th>\n",
       "      <td>AK</td>\n",
       "      <td>0115AT</td>\n",
       "      <td>Other feeds, meals, and fodders</td>\n",
       "      <td>World</td>\n",
       "      <td>402830</td>\n",
       "      <td>2022</td>\n",
       "      <td>1</td>\n",
       "      <td>Exports</td>\n",
       "      <td>Fiscal Quarter 1</td>\n",
       "    </tr>\n",
       "    <tr>\n",
       "      <th>2</th>\n",
       "      <td>AK</td>\n",
       "      <td>0125AT</td>\n",
       "      <td>Sugar, sweeteners, bev. bases</td>\n",
       "      <td>World</td>\n",
       "      <td>25000</td>\n",
       "      <td>2022</td>\n",
       "      <td>1</td>\n",
       "      <td>Exports</td>\n",
       "      <td>Fiscal Quarter 1</td>\n",
       "    </tr>\n",
       "    <tr>\n",
       "      <th>3</th>\n",
       "      <td>AK</td>\n",
       "      <td>0127AT</td>\n",
       "      <td>Essential oils</td>\n",
       "      <td>World</td>\n",
       "      <td>87084</td>\n",
       "      <td>2022</td>\n",
       "      <td>1</td>\n",
       "      <td>Exports</td>\n",
       "      <td>Fiscal Quarter 1</td>\n",
       "    </tr>\n",
       "    <tr>\n",
       "      <th>4</th>\n",
       "      <td>AK</td>\n",
       "      <td>0150AT</td>\n",
       "      <td>Pork and pork products</td>\n",
       "      <td>World</td>\n",
       "      <td>57629</td>\n",
       "      <td>2022</td>\n",
       "      <td>1</td>\n",
       "      <td>Exports</td>\n",
       "      <td>Fiscal Quarter 1</td>\n",
       "    </tr>\n",
       "  </tbody>\n",
       "</table>\n",
       "</div>"
      ],
      "text/plain": [
       "  State Commodity                   Commodity name Country  Dollar value  \\\n",
       "0    AK    0095AT                     Live animals   World         50000   \n",
       "1    AK    0115AT  Other feeds, meals, and fodders   World        402830   \n",
       "2    AK    0125AT    Sugar, sweeteners, bev. bases   World         25000   \n",
       "3    AK    0127AT                   Essential oils   World         87084   \n",
       "4    AK    0150AT           Pork and pork products   World         57629   \n",
       "\n",
       "   Fiscal year  Fiscal quarter Trade type Fiscal quarter description  \n",
       "0         2022               1    Exports           Fiscal Quarter 1  \n",
       "1         2022               1    Exports           Fiscal Quarter 1  \n",
       "2         2022               1    Exports           Fiscal Quarter 1  \n",
       "3         2022               1    Exports           Fiscal Quarter 1  \n",
       "4         2022               1    Exports           Fiscal Quarter 1  "
      ]
     },
     "execution_count": 12,
     "metadata": {},
     "output_type": "execute_result"
    }
   ],
   "source": [
    "# each row is a state\n",
    "df.head()"
   ]
  },
  {
   "cell_type": "code",
   "execution_count": 13,
   "metadata": {},
   "outputs": [
    {
     "data": {
      "text/plain": [
       "State                         0\n",
       "Commodity                     0\n",
       "Commodity name                0\n",
       "Country                       0\n",
       "Dollar value                  0\n",
       "Fiscal year                   0\n",
       "Fiscal quarter                0\n",
       "Trade type                    0\n",
       "Fiscal quarter description    0\n",
       "dtype: int64"
      ]
     },
     "execution_count": 13,
     "metadata": {},
     "output_type": "execute_result"
    }
   ],
   "source": [
    "# missing data?\n",
    "df.isnull().sum()"
   ]
  },
  {
   "cell_type": "code",
   "execution_count": 26,
   "metadata": {},
   "outputs": [
    {
     "data": {
      "text/html": [
       "<div>\n",
       "<style scoped>\n",
       "    .dataframe tbody tr th:only-of-type {\n",
       "        vertical-align: middle;\n",
       "    }\n",
       "\n",
       "    .dataframe tbody tr th {\n",
       "        vertical-align: top;\n",
       "    }\n",
       "\n",
       "    .dataframe thead th {\n",
       "        text-align: right;\n",
       "    }\n",
       "</style>\n",
       "<table border=\"1\" class=\"dataframe\">\n",
       "  <thead>\n",
       "    <tr style=\"text-align: right;\">\n",
       "      <th></th>\n",
       "      <th>State</th>\n",
       "      <th>Commodity</th>\n",
       "      <th>Commodity name</th>\n",
       "      <th>Country</th>\n",
       "      <th>Dollar value</th>\n",
       "      <th>Fiscal year</th>\n",
       "      <th>Fiscal quarter</th>\n",
       "      <th>Trade type</th>\n",
       "      <th>Fiscal quarter description</th>\n",
       "    </tr>\n",
       "  </thead>\n",
       "  <tbody>\n",
       "    <tr>\n",
       "      <th>0</th>\n",
       "      <td>AK</td>\n",
       "      <td>0095AT</td>\n",
       "      <td>Live animals</td>\n",
       "      <td>World</td>\n",
       "      <td>0.0</td>\n",
       "      <td>2022</td>\n",
       "      <td>1</td>\n",
       "      <td>Exports</td>\n",
       "      <td>Fiscal Quarter 1</td>\n",
       "    </tr>\n",
       "    <tr>\n",
       "      <th>1</th>\n",
       "      <td>AK</td>\n",
       "      <td>0115AT</td>\n",
       "      <td>Other feeds, meals, and fodders</td>\n",
       "      <td>World</td>\n",
       "      <td>0.0</td>\n",
       "      <td>2022</td>\n",
       "      <td>1</td>\n",
       "      <td>Exports</td>\n",
       "      <td>Fiscal Quarter 1</td>\n",
       "    </tr>\n",
       "    <tr>\n",
       "      <th>2</th>\n",
       "      <td>AK</td>\n",
       "      <td>0125AT</td>\n",
       "      <td>Sugar, sweeteners, bev. bases</td>\n",
       "      <td>World</td>\n",
       "      <td>0.0</td>\n",
       "      <td>2022</td>\n",
       "      <td>1</td>\n",
       "      <td>Exports</td>\n",
       "      <td>Fiscal Quarter 1</td>\n",
       "    </tr>\n",
       "    <tr>\n",
       "      <th>3</th>\n",
       "      <td>AK</td>\n",
       "      <td>0127AT</td>\n",
       "      <td>Essential oils</td>\n",
       "      <td>World</td>\n",
       "      <td>0.0</td>\n",
       "      <td>2022</td>\n",
       "      <td>1</td>\n",
       "      <td>Exports</td>\n",
       "      <td>Fiscal Quarter 1</td>\n",
       "    </tr>\n",
       "    <tr>\n",
       "      <th>4</th>\n",
       "      <td>AK</td>\n",
       "      <td>0150AT</td>\n",
       "      <td>Pork and pork products</td>\n",
       "      <td>World</td>\n",
       "      <td>0.0</td>\n",
       "      <td>2022</td>\n",
       "      <td>1</td>\n",
       "      <td>Exports</td>\n",
       "      <td>Fiscal Quarter 1</td>\n",
       "    </tr>\n",
       "  </tbody>\n",
       "</table>\n",
       "</div>"
      ],
      "text/plain": [
       "  State Commodity                   Commodity name Country  Dollar value  \\\n",
       "0    AK    0095AT                     Live animals   World           0.0   \n",
       "1    AK    0115AT  Other feeds, meals, and fodders   World           0.0   \n",
       "2    AK    0125AT    Sugar, sweeteners, bev. bases   World           0.0   \n",
       "3    AK    0127AT                   Essential oils   World           0.0   \n",
       "4    AK    0150AT           Pork and pork products   World           0.0   \n",
       "\n",
       "   Fiscal year  Fiscal quarter Trade type Fiscal quarter description  \n",
       "0         2022               1    Exports           Fiscal Quarter 1  \n",
       "1         2022               1    Exports           Fiscal Quarter 1  \n",
       "2         2022               1    Exports           Fiscal Quarter 1  \n",
       "3         2022               1    Exports           Fiscal Quarter 1  \n",
       "4         2022               1    Exports           Fiscal Quarter 1  "
      ]
     },
     "execution_count": 26,
     "metadata": {},
     "output_type": "execute_result"
    }
   ],
   "source": [
    "#Divide dollar amount by a million\n",
    "df[\"Dollar value\"] = df[\"Dollar value\"].astype(int) / 1000000\n",
    "df.head()"
   ]
  },
  {
   "cell_type": "code",
   "execution_count": 31,
=======
   "execution_count": 11,
>>>>>>> 0cf5d7380e168bf12d218335796eea718da6b0c3
   "metadata": {},
   "outputs": [
    {
     "data": {
      "text/html": [
       "<div>\n",
       "<style scoped>\n",
       "    .dataframe tbody tr th:only-of-type {\n",
       "        vertical-align: middle;\n",
       "    }\n",
       "\n",
       "    .dataframe tbody tr th {\n",
       "        vertical-align: top;\n",
       "    }\n",
       "\n",
       "    .dataframe thead th {\n",
       "        text-align: right;\n",
       "    }\n",
       "</style>\n",
       "<table border=\"1\" class=\"dataframe\">\n",
       "  <thead>\n",
       "    <tr style=\"text-align: right;\">\n",
       "      <th>Commodity name</th>\n",
       "      <th>Animal fats</th>\n",
       "      <th>Bakery goods, cereals, and pasta</th>\n",
       "      <th>Beef and beef products</th>\n",
       "      <th>Beer</th>\n",
       "      <th>Chocolate and cocoa products</th>\n",
       "      <th>Coarse grains (ex. corn)</th>\n",
       "      <th>Condiments and sauces</th>\n",
       "      <th>Confectionery</th>\n",
       "      <th>Corn</th>\n",
       "      <th>Cotton</th>\n",
       "      <th>...</th>\n",
       "      <th>Rice</th>\n",
       "      <th>Soybean meal</th>\n",
       "      <th>Soybean oil</th>\n",
       "      <th>Soybeans</th>\n",
       "      <th>Sugar, sweeteners, bev. bases</th>\n",
       "      <th>Tobacco</th>\n",
       "      <th>Tree nuts</th>\n",
       "      <th>Vegetable oils (ex. soybean)</th>\n",
       "      <th>Wheat</th>\n",
       "      <th>Wine and related products</th>\n",
       "    </tr>\n",
       "    <tr>\n",
       "      <th>State</th>\n",
       "      <th></th>\n",
       "      <th></th>\n",
       "      <th></th>\n",
       "      <th></th>\n",
       "      <th></th>\n",
       "      <th></th>\n",
       "      <th></th>\n",
       "      <th></th>\n",
       "      <th></th>\n",
       "      <th></th>\n",
       "      <th></th>\n",
       "      <th></th>\n",
       "      <th></th>\n",
       "      <th></th>\n",
       "      <th></th>\n",
       "      <th></th>\n",
       "      <th></th>\n",
       "      <th></th>\n",
       "      <th></th>\n",
       "      <th></th>\n",
       "      <th></th>\n",
       "    </tr>\n",
       "  </thead>\n",
       "  <tbody>\n",
       "    <tr>\n",
       "      <th>AK</th>\n",
       "      <td>0.00</td>\n",
       "      <td>0.01</td>\n",
       "      <td>0.04</td>\n",
       "      <td>0.35</td>\n",
       "      <td>0.00</td>\n",
       "      <td>0.00</td>\n",
       "      <td>0.05</td>\n",
       "      <td>0.02</td>\n",
       "      <td>0.00</td>\n",
       "      <td>0.27</td>\n",
       "      <td>...</td>\n",
       "      <td>0.04</td>\n",
       "      <td>0.00</td>\n",
       "      <td>0.00</td>\n",
       "      <td>0.00</td>\n",
       "      <td>0.02</td>\n",
       "      <td>0.02</td>\n",
       "      <td>0.00</td>\n",
       "      <td>0.00</td>\n",
       "      <td>0.00</td>\n",
       "      <td>0.13</td>\n",
       "    </tr>\n",
       "    <tr>\n",
       "      <th>AL</th>\n",
       "      <td>0.40</td>\n",
       "      <td>0.18</td>\n",
       "      <td>6.87</td>\n",
       "      <td>0.00</td>\n",
       "      <td>0.78</td>\n",
       "      <td>0.00</td>\n",
       "      <td>0.68</td>\n",
       "      <td>0.35</td>\n",
       "      <td>0.05</td>\n",
       "      <td>18.90</td>\n",
       "      <td>...</td>\n",
       "      <td>0.00</td>\n",
       "      <td>0.00</td>\n",
       "      <td>4.89</td>\n",
       "      <td>318.97</td>\n",
       "      <td>9.46</td>\n",
       "      <td>0.00</td>\n",
       "      <td>0.16</td>\n",
       "      <td>2.00</td>\n",
       "      <td>0.00</td>\n",
       "      <td>0.00</td>\n",
       "    </tr>\n",
       "    <tr>\n",
       "      <th>AR</th>\n",
       "      <td>0.96</td>\n",
       "      <td>7.53</td>\n",
       "      <td>7.65</td>\n",
       "      <td>0.00</td>\n",
       "      <td>0.01</td>\n",
       "      <td>0.00</td>\n",
       "      <td>1.34</td>\n",
       "      <td>27.66</td>\n",
       "      <td>0.00</td>\n",
       "      <td>128.31</td>\n",
       "      <td>...</td>\n",
       "      <td>147.45</td>\n",
       "      <td>0.01</td>\n",
       "      <td>0.00</td>\n",
       "      <td>3.65</td>\n",
       "      <td>27.68</td>\n",
       "      <td>0.00</td>\n",
       "      <td>0.06</td>\n",
       "      <td>1.39</td>\n",
       "      <td>0.00</td>\n",
       "      <td>0.16</td>\n",
       "    </tr>\n",
       "    <tr>\n",
       "      <th>AZ</th>\n",
       "      <td>3.92</td>\n",
       "      <td>4.64</td>\n",
       "      <td>119.14</td>\n",
       "      <td>0.01</td>\n",
       "      <td>3.98</td>\n",
       "      <td>0.06</td>\n",
       "      <td>2.41</td>\n",
       "      <td>34.02</td>\n",
       "      <td>0.00</td>\n",
       "      <td>80.90</td>\n",
       "      <td>...</td>\n",
       "      <td>0.44</td>\n",
       "      <td>0.21</td>\n",
       "      <td>0.24</td>\n",
       "      <td>0.00</td>\n",
       "      <td>34.02</td>\n",
       "      <td>0.06</td>\n",
       "      <td>15.08</td>\n",
       "      <td>9.50</td>\n",
       "      <td>21.95</td>\n",
       "      <td>0.11</td>\n",
       "    </tr>\n",
       "    <tr>\n",
       "      <th>CA</th>\n",
       "      <td>13.48</td>\n",
       "      <td>259.95</td>\n",
       "      <td>610.46</td>\n",
       "      <td>33.03</td>\n",
       "      <td>118.59</td>\n",
       "      <td>0.59</td>\n",
       "      <td>242.39</td>\n",
       "      <td>741.03</td>\n",
       "      <td>5.85</td>\n",
       "      <td>337.35</td>\n",
       "      <td>...</td>\n",
       "      <td>314.61</td>\n",
       "      <td>13.32</td>\n",
       "      <td>8.76</td>\n",
       "      <td>58.29</td>\n",
       "      <td>725.55</td>\n",
       "      <td>0.03</td>\n",
       "      <td>4737.49</td>\n",
       "      <td>125.82</td>\n",
       "      <td>0.19</td>\n",
       "      <td>618.10</td>\n",
       "    </tr>\n",
       "  </tbody>\n",
       "</table>\n",
       "<p>5 rows × 47 columns</p>\n",
       "</div>"
      ],
      "text/plain": [
       "Commodity name  Animal fats  Bakery goods, cereals, and pasta  \\\n",
       "State                                                           \n",
       "AK                     0.00                              0.01   \n",
       "AL                     0.40                              0.18   \n",
       "AR                     0.96                              7.53   \n",
       "AZ                     3.92                              4.64   \n",
       "CA                    13.48                            259.95   \n",
       "\n",
       "Commodity name  Beef and beef products   Beer  Chocolate and cocoa products  \\\n",
       "State                                                                         \n",
       "AK                                0.04   0.35                          0.00   \n",
       "AL                                6.87   0.00                          0.78   \n",
       "AR                                7.65   0.00                          0.01   \n",
       "AZ                              119.14   0.01                          3.98   \n",
       "CA                              610.46  33.03                        118.59   \n",
       "\n",
       "Commodity name  Coarse grains (ex. corn)  Condiments and sauces  \\\n",
       "State                                                             \n",
       "AK                                  0.00                   0.05   \n",
       "AL                                  0.00                   0.68   \n",
       "AR                                  0.00                   1.34   \n",
       "AZ                                  0.06                   2.41   \n",
       "CA                                  0.59                 242.39   \n",
       "\n",
       "Commodity name  Confectionery  Corn  Cotton  ...    Rice  Soybean meal  \\\n",
       "State                                        ...                         \n",
       "AK                       0.02  0.00    0.27  ...    0.04          0.00   \n",
       "AL                       0.35  0.05   18.90  ...    0.00          0.00   \n",
       "AR                      27.66  0.00  128.31  ...  147.45          0.01   \n",
       "AZ                      34.02  0.00   80.90  ...    0.44          0.21   \n",
       "CA                     741.03  5.85  337.35  ...  314.61         13.32   \n",
       "\n",
       "Commodity name  Soybean oil  Soybeans  Sugar, sweeteners, bev. bases  Tobacco  \\\n",
       "State                                                                           \n",
       "AK                     0.00      0.00                           0.02     0.02   \n",
       "AL                     4.89    318.97                           9.46     0.00   \n",
       "AR                     0.00      3.65                          27.68     0.00   \n",
       "AZ                     0.24      0.00                          34.02     0.06   \n",
       "CA                     8.76     58.29                         725.55     0.03   \n",
       "\n",
       "Commodity name  Tree nuts  Vegetable oils (ex. soybean)  Wheat  \\\n",
       "State                                                            \n",
       "AK                   0.00                          0.00   0.00   \n",
       "AL                   0.16                          2.00   0.00   \n",
       "AR                   0.06                          1.39   0.00   \n",
       "AZ                  15.08                          9.50  21.95   \n",
       "CA                4737.49                        125.82   0.19   \n",
       "\n",
       "Commodity name  Wine and related products  \n",
       "State                                      \n",
       "AK                                   0.13  \n",
       "AL                                   0.00  \n",
       "AR                                   0.16  \n",
       "AZ                                   0.11  \n",
       "CA                                 618.10  \n",
       "\n",
       "[5 rows x 47 columns]"
      ]
     },
     "execution_count": 31,
     "metadata": {},
     "output_type": "execute_result"
    }
   ],
   "source": [
    "#Updated data frame with dollar amount in millions\n",
    "ndf1 = df.groupby([\"State\", \"Commodity name\"])[\"Dollar value\"].aggregate(\"sum\").unstack()\n",
    "#ndf1.head()\n",
    "ndf1 = ndf.fillna(0)\n",
    "#ndf1.head()\n",
    "ndf1.loc[:, ndf1.columns != 'State'] = ndf1.loc[:, ndf1.columns != 'State'] / 1000000\n",
    "ndf1.loc[:, ndf1.columns != 'State'] = ndf1.loc[:, ndf1.columns != 'State'].round(2)\n",
    "ndf1.head()"
   ]
  },
  {
   "cell_type": "code",
   "execution_count": 19,
   "metadata": {},
   "outputs": [
    {
     "data": {
      "text/html": [
       "<div>\n",
       "<style scoped>\n",
       "    .dataframe tbody tr th:only-of-type {\n",
       "        vertical-align: middle;\n",
       "    }\n",
       "\n",
       "    .dataframe tbody tr th {\n",
       "        vertical-align: top;\n",
       "    }\n",
       "\n",
       "    .dataframe thead th {\n",
       "        text-align: right;\n",
       "    }\n",
       "</style>\n",
       "<table border=\"1\" class=\"dataframe\">\n",
       "  <thead>\n",
       "    <tr style=\"text-align: right;\">\n",
       "      <th>Commodity name</th>\n",
       "      <th>Animal fats</th>\n",
       "      <th>Bakery goods, cereals, and pasta</th>\n",
       "      <th>Beef and beef products</th>\n",
       "      <th>Beer</th>\n",
       "      <th>Chocolate and cocoa products</th>\n",
       "      <th>Coarse grains (ex. corn)</th>\n",
       "      <th>Condiments and sauces</th>\n",
       "      <th>Confectionery</th>\n",
       "      <th>Corn</th>\n",
       "      <th>Cotton</th>\n",
       "      <th>...</th>\n",
       "      <th>Rice</th>\n",
       "      <th>Soybean meal</th>\n",
       "      <th>Soybean oil</th>\n",
       "      <th>Soybeans</th>\n",
       "      <th>Sugar, sweeteners, bev. bases</th>\n",
       "      <th>Tobacco</th>\n",
       "      <th>Tree nuts</th>\n",
       "      <th>Vegetable oils (ex. soybean)</th>\n",
       "      <th>Wheat</th>\n",
       "      <th>Wine and related products</th>\n",
       "    </tr>\n",
       "    <tr>\n",
       "      <th>State</th>\n",
       "      <th></th>\n",
       "      <th></th>\n",
       "      <th></th>\n",
       "      <th></th>\n",
       "      <th></th>\n",
       "      <th></th>\n",
       "      <th></th>\n",
       "      <th></th>\n",
       "      <th></th>\n",
       "      <th></th>\n",
       "      <th></th>\n",
       "      <th></th>\n",
       "      <th></th>\n",
       "      <th></th>\n",
       "      <th></th>\n",
       "      <th></th>\n",
       "      <th></th>\n",
       "      <th></th>\n",
       "      <th></th>\n",
       "      <th></th>\n",
       "      <th></th>\n",
       "    </tr>\n",
       "  </thead>\n",
       "  <tbody>\n",
       "    <tr>\n",
       "      <th>AK</th>\n",
       "      <td>0.0</td>\n",
       "      <td>8000.0</td>\n",
       "      <td>41878.0</td>\n",
       "      <td>345858.0</td>\n",
       "      <td>0.0</td>\n",
       "      <td>0.0</td>\n",
       "      <td>53844.0</td>\n",
       "      <td>25000.0</td>\n",
       "      <td>0.0</td>\n",
       "      <td>272902.0</td>\n",
       "      <td>...</td>\n",
       "      <td>35549.0</td>\n",
       "      <td>0.0</td>\n",
       "      <td>0.0</td>\n",
       "      <td>0.0</td>\n",
       "      <td>25000.0</td>\n",
       "      <td>15350.0</td>\n",
       "      <td>0.000000e+00</td>\n",
       "      <td>0.0</td>\n",
       "      <td>0.0</td>\n",
       "      <td>125333.0</td>\n",
       "    </tr>\n",
       "    <tr>\n",
       "      <th>AL</th>\n",
       "      <td>399729.0</td>\n",
       "      <td>182656.0</td>\n",
       "      <td>6871069.0</td>\n",
       "      <td>0.0</td>\n",
       "      <td>779015.0</td>\n",
       "      <td>0.0</td>\n",
       "      <td>683250.0</td>\n",
       "      <td>350122.0</td>\n",
       "      <td>47160.0</td>\n",
       "      <td>18899384.0</td>\n",
       "      <td>...</td>\n",
       "      <td>0.0</td>\n",
       "      <td>0.0</td>\n",
       "      <td>4886290.0</td>\n",
       "      <td>318974495.0</td>\n",
       "      <td>9458664.0</td>\n",
       "      <td>0.0</td>\n",
       "      <td>1.587330e+05</td>\n",
       "      <td>2004674.0</td>\n",
       "      <td>0.0</td>\n",
       "      <td>0.0</td>\n",
       "    </tr>\n",
       "    <tr>\n",
       "      <th>AR</th>\n",
       "      <td>963647.0</td>\n",
       "      <td>7528036.0</td>\n",
       "      <td>7647824.0</td>\n",
       "      <td>0.0</td>\n",
       "      <td>6705.0</td>\n",
       "      <td>0.0</td>\n",
       "      <td>1337571.0</td>\n",
       "      <td>27663935.0</td>\n",
       "      <td>0.0</td>\n",
       "      <td>128308943.0</td>\n",
       "      <td>...</td>\n",
       "      <td>147449013.0</td>\n",
       "      <td>6783.0</td>\n",
       "      <td>0.0</td>\n",
       "      <td>3648077.0</td>\n",
       "      <td>27678133.0</td>\n",
       "      <td>0.0</td>\n",
       "      <td>6.374500e+04</td>\n",
       "      <td>1392569.0</td>\n",
       "      <td>0.0</td>\n",
       "      <td>164660.0</td>\n",
       "    </tr>\n",
       "    <tr>\n",
       "      <th>AZ</th>\n",
       "      <td>3918467.0</td>\n",
       "      <td>4637579.0</td>\n",
       "      <td>119135272.0</td>\n",
       "      <td>14457.0</td>\n",
       "      <td>3982636.0</td>\n",
       "      <td>60752.0</td>\n",
       "      <td>2409180.0</td>\n",
       "      <td>34024989.0</td>\n",
       "      <td>0.0</td>\n",
       "      <td>80903828.0</td>\n",
       "      <td>...</td>\n",
       "      <td>438842.0</td>\n",
       "      <td>211020.0</td>\n",
       "      <td>241842.0</td>\n",
       "      <td>0.0</td>\n",
       "      <td>34024157.0</td>\n",
       "      <td>63598.0</td>\n",
       "      <td>1.508005e+07</td>\n",
       "      <td>9503559.0</td>\n",
       "      <td>21949024.0</td>\n",
       "      <td>110000.0</td>\n",
       "    </tr>\n",
       "    <tr>\n",
       "      <th>CA</th>\n",
       "      <td>13484131.0</td>\n",
       "      <td>259952832.0</td>\n",
       "      <td>610460336.0</td>\n",
       "      <td>33033725.0</td>\n",
       "      <td>118592026.0</td>\n",
       "      <td>588734.0</td>\n",
       "      <td>242391295.0</td>\n",
       "      <td>741029016.0</td>\n",
       "      <td>5847216.0</td>\n",
       "      <td>337353779.0</td>\n",
       "      <td>...</td>\n",
       "      <td>314608659.0</td>\n",
       "      <td>13323924.0</td>\n",
       "      <td>8760666.0</td>\n",
       "      <td>58288660.0</td>\n",
       "      <td>725545724.0</td>\n",
       "      <td>31354.0</td>\n",
       "      <td>4.737490e+09</td>\n",
       "      <td>125816053.0</td>\n",
       "      <td>192466.0</td>\n",
       "      <td>618103825.0</td>\n",
       "    </tr>\n",
       "  </tbody>\n",
       "</table>\n",
       "<p>5 rows × 47 columns</p>\n",
       "</div>"
      ],
      "text/plain": [
<<<<<<< HEAD
       "Commodity name  Animal fats  Bakery goods, cereals, and pasta  \\\n",
       "State                                                           \n",
       "AK                      0.0                            8000.0   \n",
       "AL                 399729.0                          182656.0   \n",
       "AR                 963647.0                         7528036.0   \n",
       "AZ                3918467.0                         4637579.0   \n",
       "CA               13484131.0                       259952832.0   \n",
       "\n",
       "Commodity name  Beef and beef products        Beer  \\\n",
       "State                                                \n",
       "AK                             41878.0    345858.0   \n",
       "AL                           6871069.0         0.0   \n",
       "AR                           7647824.0         0.0   \n",
       "AZ                         119135272.0     14457.0   \n",
       "CA                         610460336.0  33033725.0   \n",
       "\n",
       "Commodity name  Chocolate and cocoa products  Coarse grains (ex. corn)  \\\n",
       "State                                                                    \n",
       "AK                                       0.0                       0.0   \n",
       "AL                                  779015.0                       0.0   \n",
       "AR                                    6705.0                       0.0   \n",
       "AZ                                 3982636.0                   60752.0   \n",
       "CA                               118592026.0                  588734.0   \n",
       "\n",
       "Commodity name  Condiments and sauces  Confectionery       Corn       Cotton  \\\n",
       "State                                                                          \n",
       "AK                            53844.0        25000.0        0.0     272902.0   \n",
       "AL                           683250.0       350122.0    47160.0   18899384.0   \n",
       "AR                          1337571.0     27663935.0        0.0  128308943.0   \n",
       "AZ                          2409180.0     34024989.0        0.0   80903828.0   \n",
       "CA                        242391295.0    741029016.0  5847216.0  337353779.0   \n",
       "\n",
       "Commodity name  ...         Rice  Soybean meal  Soybean oil     Soybeans  \\\n",
       "State           ...                                                        \n",
       "AK              ...      35549.0           0.0          0.0          0.0   \n",
       "AL              ...          0.0           0.0    4886290.0  318974495.0   \n",
       "AR              ...  147449013.0        6783.0          0.0    3648077.0   \n",
       "AZ              ...     438842.0      211020.0     241842.0          0.0   \n",
       "CA              ...  314608659.0    13323924.0    8760666.0   58288660.0   \n",
       "\n",
       "Commodity name  Sugar, sweeteners, bev. bases  Tobacco     Tree nuts  \\\n",
       "State                                                                  \n",
       "AK                                    25000.0  15350.0  0.000000e+00   \n",
       "AL                                  9458664.0      0.0  1.587330e+05   \n",
       "AR                                 27678133.0      0.0  6.374500e+04   \n",
       "AZ                                 34024157.0  63598.0  1.508005e+07   \n",
       "CA                                725545724.0  31354.0  4.737490e+09   \n",
       "\n",
       "Commodity name  Vegetable oils (ex. soybean)       Wheat  \\\n",
       "State                                                      \n",
       "AK                                       0.0         0.0   \n",
       "AL                                 2004674.0         0.0   \n",
       "AR                                 1392569.0         0.0   \n",
       "AZ                                 9503559.0  21949024.0   \n",
       "CA                               125816053.0    192466.0   \n",
       "\n",
       "Commodity name  Wine and related products  \n",
       "State                                      \n",
       "AK                               125333.0  \n",
       "AL                                    0.0  \n",
       "AR                               164660.0  \n",
       "AZ                               110000.0  \n",
       "CA                            618103825.0  \n",
       "\n",
       "[5 rows x 47 columns]"
      ]
     },
     "execution_count": 19,
=======
       "(3966, 9)"
      ]
     },
     "execution_count": 11,
>>>>>>> 0cf5d7380e168bf12d218335796eea718da6b0c3
     "metadata": {},
     "output_type": "execute_result"
    }
   ],
   "source": [
<<<<<<< HEAD
    "#old dataframe for safekeeping - in case something goes wrong\n",
    "ndf = df.groupby([\"State\", \"Commodity name\"])[\"Dollar value\"].aggregate(\"sum\").unstack()\n",
    "ndf.head()\n",
    "ndf = ndf.fillna(0)\n",
    "ndf.head()"
=======
    "# read in the data\n",
    "\n",
    "df = pd.read_csv('../assets/us_world_export_data_2022.csv')\n",
    "df.shape"
>>>>>>> 0cf5d7380e168bf12d218335796eea718da6b0c3
   ]
  },
  {
   "cell_type": "code",
<<<<<<< HEAD
   "execution_count": 57,
=======
   "execution_count": 12,
>>>>>>> 0cf5d7380e168bf12d218335796eea718da6b0c3
   "metadata": {},
   "outputs": [
    {
     "data": {
      "text/html": [
       "<div>\n",
       "<style scoped>\n",
       "    .dataframe tbody tr th:only-of-type {\n",
       "        vertical-align: middle;\n",
       "    }\n",
       "\n",
       "    .dataframe tbody tr th {\n",
       "        vertical-align: top;\n",
       "    }\n",
       "\n",
       "    .dataframe thead th {\n",
       "        text-align: right;\n",
       "    }\n",
       "</style>\n",
       "<table border=\"1\" class=\"dataframe\">\n",
       "  <thead>\n",
       "    <tr style=\"text-align: right;\">\n",
<<<<<<< HEAD
       "      <th>Commodity name</th>\n",
       "      <th>State</th>\n",
       "      <th>Animal fats</th>\n",
       "      <th>Bakery goods, cereals, and pasta</th>\n",
       "      <th>Beef and beef products</th>\n",
       "      <th>Beer</th>\n",
       "      <th>Chocolate and cocoa products</th>\n",
       "      <th>Coarse grains (ex. corn)</th>\n",
       "      <th>Condiments and sauces</th>\n",
       "      <th>Confectionery</th>\n",
       "      <th>Corn</th>\n",
       "      <th>...</th>\n",
       "      <th>Rice</th>\n",
       "      <th>Soybean meal</th>\n",
       "      <th>Soybean oil</th>\n",
       "      <th>Soybeans</th>\n",
       "      <th>Sugar, sweeteners, bev. bases</th>\n",
       "      <th>Tobacco</th>\n",
       "      <th>Tree nuts</th>\n",
       "      <th>Vegetable oils (ex. soybean)</th>\n",
       "      <th>Wheat</th>\n",
       "      <th>Wine and related products</th>\n",
=======
       "      <th></th>\n",
       "      <th>State</th>\n",
       "      <th>Commodity</th>\n",
       "      <th>Commodity name</th>\n",
       "      <th>Country</th>\n",
       "      <th>Dollar value</th>\n",
       "      <th>Fiscal year</th>\n",
       "      <th>Fiscal quarter</th>\n",
       "      <th>Trade type</th>\n",
       "      <th>Fiscal quarter description</th>\n",
>>>>>>> 0cf5d7380e168bf12d218335796eea718da6b0c3
       "    </tr>\n",
       "  </thead>\n",
       "  <tbody>\n",
       "    <tr>\n",
       "      <th>0</th>\n",
       "      <td>AK</td>\n",
<<<<<<< HEAD
       "      <td>0.00</td>\n",
       "      <td>0.01</td>\n",
       "      <td>0.04</td>\n",
       "      <td>0.35</td>\n",
       "      <td>0.00</td>\n",
       "      <td>0.00</td>\n",
       "      <td>0.05</td>\n",
       "      <td>0.02</td>\n",
       "      <td>0.00</td>\n",
       "      <td>...</td>\n",
       "      <td>0.04</td>\n",
       "      <td>0.00</td>\n",
       "      <td>0.00</td>\n",
       "      <td>0.00</td>\n",
       "      <td>0.02</td>\n",
       "      <td>0.02</td>\n",
       "      <td>0.00</td>\n",
       "      <td>0.00</td>\n",
       "      <td>0.00</td>\n",
       "      <td>0.13</td>\n",
       "    </tr>\n",
       "    <tr>\n",
       "      <th>1</th>\n",
       "      <td>AL</td>\n",
       "      <td>0.40</td>\n",
       "      <td>0.18</td>\n",
       "      <td>6.87</td>\n",
       "      <td>0.00</td>\n",
       "      <td>0.78</td>\n",
       "      <td>0.00</td>\n",
       "      <td>0.68</td>\n",
       "      <td>0.35</td>\n",
       "      <td>0.05</td>\n",
       "      <td>...</td>\n",
       "      <td>0.00</td>\n",
       "      <td>0.00</td>\n",
       "      <td>4.89</td>\n",
       "      <td>318.97</td>\n",
       "      <td>9.46</td>\n",
       "      <td>0.00</td>\n",
       "      <td>0.16</td>\n",
       "      <td>2.00</td>\n",
       "      <td>0.00</td>\n",
       "      <td>0.00</td>\n",
       "    </tr>\n",
       "    <tr>\n",
       "      <th>2</th>\n",
       "      <td>AR</td>\n",
       "      <td>0.96</td>\n",
       "      <td>7.53</td>\n",
       "      <td>7.65</td>\n",
       "      <td>0.00</td>\n",
       "      <td>0.01</td>\n",
       "      <td>0.00</td>\n",
       "      <td>1.34</td>\n",
       "      <td>27.66</td>\n",
       "      <td>0.00</td>\n",
       "      <td>...</td>\n",
       "      <td>147.45</td>\n",
       "      <td>0.01</td>\n",
       "      <td>0.00</td>\n",
       "      <td>3.65</td>\n",
       "      <td>27.68</td>\n",
       "      <td>0.00</td>\n",
       "      <td>0.06</td>\n",
       "      <td>1.39</td>\n",
       "      <td>0.00</td>\n",
       "      <td>0.16</td>\n",
       "    </tr>\n",
       "    <tr>\n",
       "      <th>3</th>\n",
       "      <td>AZ</td>\n",
       "      <td>3.92</td>\n",
       "      <td>4.64</td>\n",
       "      <td>119.14</td>\n",
       "      <td>0.01</td>\n",
       "      <td>3.98</td>\n",
       "      <td>0.06</td>\n",
       "      <td>2.41</td>\n",
       "      <td>34.02</td>\n",
       "      <td>0.00</td>\n",
       "      <td>...</td>\n",
       "      <td>0.44</td>\n",
       "      <td>0.21</td>\n",
       "      <td>0.24</td>\n",
       "      <td>0.00</td>\n",
       "      <td>34.02</td>\n",
       "      <td>0.06</td>\n",
       "      <td>15.08</td>\n",
       "      <td>9.50</td>\n",
       "      <td>21.95</td>\n",
       "      <td>0.11</td>\n",
       "    </tr>\n",
       "    <tr>\n",
       "      <th>4</th>\n",
       "      <td>CA</td>\n",
       "      <td>13.48</td>\n",
       "      <td>259.95</td>\n",
       "      <td>610.46</td>\n",
       "      <td>33.03</td>\n",
       "      <td>118.59</td>\n",
       "      <td>0.59</td>\n",
       "      <td>242.39</td>\n",
       "      <td>741.03</td>\n",
       "      <td>5.85</td>\n",
       "      <td>...</td>\n",
       "      <td>314.61</td>\n",
       "      <td>13.32</td>\n",
       "      <td>8.76</td>\n",
       "      <td>58.29</td>\n",
       "      <td>725.55</td>\n",
       "      <td>0.03</td>\n",
       "      <td>4737.49</td>\n",
       "      <td>125.82</td>\n",
       "      <td>0.19</td>\n",
       "      <td>618.10</td>\n",
=======
       "      <td>0095AT</td>\n",
       "      <td>Live animals</td>\n",
       "      <td>World</td>\n",
       "      <td>50000</td>\n",
       "      <td>2022</td>\n",
       "      <td>1</td>\n",
       "      <td>Exports</td>\n",
       "      <td>Fiscal Quarter 1</td>\n",
       "    </tr>\n",
       "    <tr>\n",
       "      <th>1</th>\n",
       "      <td>AK</td>\n",
       "      <td>0115AT</td>\n",
       "      <td>Other feeds, meals, and fodders</td>\n",
       "      <td>World</td>\n",
       "      <td>402830</td>\n",
       "      <td>2022</td>\n",
       "      <td>1</td>\n",
       "      <td>Exports</td>\n",
       "      <td>Fiscal Quarter 1</td>\n",
       "    </tr>\n",
       "    <tr>\n",
       "      <th>2</th>\n",
       "      <td>AK</td>\n",
       "      <td>0125AT</td>\n",
       "      <td>Sugar, sweeteners, bev. bases</td>\n",
       "      <td>World</td>\n",
       "      <td>25000</td>\n",
       "      <td>2022</td>\n",
       "      <td>1</td>\n",
       "      <td>Exports</td>\n",
       "      <td>Fiscal Quarter 1</td>\n",
       "    </tr>\n",
       "    <tr>\n",
       "      <th>3</th>\n",
       "      <td>AK</td>\n",
       "      <td>0127AT</td>\n",
       "      <td>Essential oils</td>\n",
       "      <td>World</td>\n",
       "      <td>87084</td>\n",
       "      <td>2022</td>\n",
       "      <td>1</td>\n",
       "      <td>Exports</td>\n",
       "      <td>Fiscal Quarter 1</td>\n",
       "    </tr>\n",
       "    <tr>\n",
       "      <th>4</th>\n",
       "      <td>AK</td>\n",
       "      <td>0150AT</td>\n",
       "      <td>Pork and pork products</td>\n",
       "      <td>World</td>\n",
       "      <td>57629</td>\n",
       "      <td>2022</td>\n",
       "      <td>1</td>\n",
       "      <td>Exports</td>\n",
       "      <td>Fiscal Quarter 1</td>\n",
>>>>>>> 0cf5d7380e168bf12d218335796eea718da6b0c3
       "    </tr>\n",
       "  </tbody>\n",
       "</table>\n",
       "<p>5 rows × 48 columns</p>\n",
       "</div>"
      ],
      "text/plain": [
<<<<<<< HEAD
       "Commodity name State  Animal fats  Bakery goods, cereals, and pasta  \\\n",
       "0                 AK         0.00                              0.01   \n",
       "1                 AL         0.40                              0.18   \n",
       "2                 AR         0.96                              7.53   \n",
       "3                 AZ         3.92                              4.64   \n",
       "4                 CA        13.48                            259.95   \n",
       "\n",
       "Commodity name  Beef and beef products   Beer  Chocolate and cocoa products  \\\n",
       "0                                 0.04   0.35                          0.00   \n",
       "1                                 6.87   0.00                          0.78   \n",
       "2                                 7.65   0.00                          0.01   \n",
       "3                               119.14   0.01                          3.98   \n",
       "4                               610.46  33.03                        118.59   \n",
       "\n",
       "Commodity name  Coarse grains (ex. corn)  Condiments and sauces  \\\n",
       "0                                   0.00                   0.05   \n",
       "1                                   0.00                   0.68   \n",
       "2                                   0.00                   1.34   \n",
       "3                                   0.06                   2.41   \n",
       "4                                   0.59                 242.39   \n",
       "\n",
       "Commodity name  Confectionery  Corn  ...    Rice  Soybean meal  Soybean oil  \\\n",
       "0                        0.02  0.00  ...    0.04          0.00         0.00   \n",
       "1                        0.35  0.05  ...    0.00          0.00         4.89   \n",
       "2                       27.66  0.00  ...  147.45          0.01         0.00   \n",
       "3                       34.02  0.00  ...    0.44          0.21         0.24   \n",
       "4                      741.03  5.85  ...  314.61         13.32         8.76   \n",
       "\n",
       "Commodity name  Soybeans  Sugar, sweeteners, bev. bases  Tobacco  Tree nuts  \\\n",
       "0                   0.00                           0.02     0.02       0.00   \n",
       "1                 318.97                           9.46     0.00       0.16   \n",
       "2                   3.65                          27.68     0.00       0.06   \n",
       "3                   0.00                          34.02     0.06      15.08   \n",
       "4                  58.29                         725.55     0.03    4737.49   \n",
       "\n",
       "Commodity name  Vegetable oils (ex. soybean)  Wheat  Wine and related products  \n",
       "0                                       0.00   0.00                       0.13  \n",
       "1                                       2.00   0.00                       0.00  \n",
       "2                                       1.39   0.00                       0.16  \n",
       "3                                       9.50  21.95                       0.11  \n",
       "4                                     125.82   0.19                     618.10  \n",
       "\n",
       "[5 rows x 48 columns]"
      ]
     },
     "execution_count": 57,
=======
       "  State Commodity                   Commodity name Country  Dollar value  \\\n",
       "0    AK    0095AT                     Live animals   World         50000   \n",
       "1    AK    0115AT  Other feeds, meals, and fodders   World        402830   \n",
       "2    AK    0125AT    Sugar, sweeteners, bev. bases   World         25000   \n",
       "3    AK    0127AT                   Essential oils   World         87084   \n",
       "4    AK    0150AT           Pork and pork products   World         57629   \n",
       "\n",
       "   Fiscal year  Fiscal quarter Trade type Fiscal quarter description  \n",
       "0         2022               1    Exports           Fiscal Quarter 1  \n",
       "1         2022               1    Exports           Fiscal Quarter 1  \n",
       "2         2022               1    Exports           Fiscal Quarter 1  \n",
       "3         2022               1    Exports           Fiscal Quarter 1  \n",
       "4         2022               1    Exports           Fiscal Quarter 1  "
      ]
     },
     "execution_count": 12,
>>>>>>> 0cf5d7380e168bf12d218335796eea718da6b0c3
     "metadata": {},
     "output_type": "execute_result"
    }
   ],
   "source": [
    "ndf1.reset_index(inplace = True)\n",
    "ndf1.head()"
   ]
  },
  {
   "cell_type": "code",
<<<<<<< HEAD
   "execution_count": 48,
=======
   "execution_count": 13,
>>>>>>> 0cf5d7380e168bf12d218335796eea718da6b0c3
   "metadata": {},
   "outputs": [
    {
     "data": {
      "text/html": [
       "<div>\n",
       "<style scoped>\n",
       "    .dataframe tbody tr th:only-of-type {\n",
       "        vertical-align: middle;\n",
       "    }\n",
       "\n",
       "    .dataframe tbody tr th {\n",
       "        vertical-align: top;\n",
       "    }\n",
       "\n",
       "    .dataframe thead th {\n",
       "        text-align: right;\n",
       "    }\n",
       "</style>\n",
       "<table border=\"1\" class=\"dataframe\">\n",
       "  <thead>\n",
       "    <tr style=\"text-align: right;\">\n",
       "      <th></th>\n",
       "      <th>DataType</th>\n",
       "    </tr>\n",
       "    <tr>\n",
       "      <th>Commodity name</th>\n",
       "      <th></th>\n",
       "    </tr>\n",
       "  </thead>\n",
       "  <tbody>\n",
       "    <tr>\n",
       "      <th>Animal fats</th>\n",
       "      <td>float64</td>\n",
       "    </tr>\n",
       "    <tr>\n",
       "      <th>Bakery goods, cereals, and pasta</th>\n",
       "      <td>float64</td>\n",
       "    </tr>\n",
       "    <tr>\n",
       "      <th>Beef and beef products</th>\n",
       "      <td>float64</td>\n",
       "    </tr>\n",
       "    <tr>\n",
       "      <th>Beer</th>\n",
       "      <td>float64</td>\n",
       "    </tr>\n",
       "    <tr>\n",
       "      <th>Chocolate and cocoa products</th>\n",
       "      <td>float64</td>\n",
       "    </tr>\n",
       "    <tr>\n",
       "      <th>Coarse grains (ex. corn)</th>\n",
       "      <td>float64</td>\n",
       "    </tr>\n",
       "    <tr>\n",
       "      <th>Condiments and sauces</th>\n",
       "      <td>float64</td>\n",
       "    </tr>\n",
       "    <tr>\n",
       "      <th>Confectionery</th>\n",
       "      <td>float64</td>\n",
       "    </tr>\n",
       "    <tr>\n",
       "      <th>Corn</th>\n",
       "      <td>float64</td>\n",
       "    </tr>\n",
       "    <tr>\n",
       "      <th>Cotton</th>\n",
       "      <td>float64</td>\n",
       "    </tr>\n",
       "    <tr>\n",
       "      <th>Dairy products</th>\n",
       "      <td>float64</td>\n",
       "    </tr>\n",
       "    <tr>\n",
       "      <th>Dextrins, peptones, and proteins</th>\n",
       "      <td>float64</td>\n",
       "    </tr>\n",
       "    <tr>\n",
       "      <th>Distilled spirits</th>\n",
       "      <td>float64</td>\n",
       "    </tr>\n",
       "    <tr>\n",
       "      <th>Distillers grains</th>\n",
       "      <td>float64</td>\n",
       "    </tr>\n",
       "    <tr>\n",
       "      <th>Dog and cat food</th>\n",
       "      <td>float64</td>\n",
       "    </tr>\n",
       "    <tr>\n",
       "      <th>Eggs and products</th>\n",
       "      <td>float64</td>\n",
       "    </tr>\n",
       "    <tr>\n",
       "      <th>Essential oils</th>\n",
       "      <td>float64</td>\n",
       "    </tr>\n",
       "    <tr>\n",
       "      <th>Ethanol (non-bev.)</th>\n",
       "      <td>float64</td>\n",
       "    </tr>\n",
       "    <tr>\n",
       "      <th>Food preparations</th>\n",
       "      <td>float64</td>\n",
       "    </tr>\n",
       "    <tr>\n",
       "      <th>Fresh fruit</th>\n",
       "      <td>float64</td>\n",
       "    </tr>\n",
       "    <tr>\n",
       "      <th>Fresh vegetables</th>\n",
       "      <td>float64</td>\n",
       "    </tr>\n",
       "    <tr>\n",
       "      <th>Fruit and vegetable juices</th>\n",
       "      <td>float64</td>\n",
       "    </tr>\n",
       "    <tr>\n",
       "      <th>Hay</th>\n",
       "      <td>float64</td>\n",
       "    </tr>\n",
       "    <tr>\n",
       "      <th>Hides and skins</th>\n",
       "      <td>float64</td>\n",
       "    </tr>\n",
       "    <tr>\n",
       "      <th>Live animals</th>\n",
       "      <td>float64</td>\n",
       "    </tr>\n",
       "    <tr>\n",
       "      <th>Meat products NESOI</th>\n",
       "      <td>float64</td>\n",
       "    </tr>\n",
       "    <tr>\n",
       "      <th>Milled grains and products</th>\n",
       "      <td>float64</td>\n",
       "    </tr>\n",
       "    <tr>\n",
       "      <th>Non-alcoholic bev. (ex. juices)</th>\n",
       "      <td>float64</td>\n",
       "    </tr>\n",
       "    <tr>\n",
       "      <th>Nursery products and cut flowers</th>\n",
       "      <td>float64</td>\n",
       "    </tr>\n",
       "    <tr>\n",
       "      <th>Oilseeds (ex. soybean)</th>\n",
       "      <td>float64</td>\n",
       "    </tr>\n",
       "    <tr>\n",
       "      <th>Other feeds, meals, and fodders</th>\n",
       "      <td>float64</td>\n",
       "    </tr>\n",
       "    <tr>\n",
       "      <th>Planting seeds</th>\n",
       "      <td>float64</td>\n",
       "    </tr>\n",
       "    <tr>\n",
       "      <th>Pork and pork products</th>\n",
       "      <td>float64</td>\n",
       "    </tr>\n",
       "    <tr>\n",
       "      <th>Poultry meat and products (ex. eggs)</th>\n",
       "      <td>float64</td>\n",
       "    </tr>\n",
       "    <tr>\n",
       "      <th>Processed fruit</th>\n",
       "      <td>float64</td>\n",
       "    </tr>\n",
       "    <tr>\n",
       "      <th>Processed vegetables</th>\n",
       "      <td>float64</td>\n",
       "    </tr>\n",
       "    <tr>\n",
       "      <th>Pulses</th>\n",
       "      <td>float64</td>\n",
       "    </tr>\n",
       "    <tr>\n",
       "      <th>Rice</th>\n",
       "      <td>float64</td>\n",
       "    </tr>\n",
       "    <tr>\n",
       "      <th>Soybean meal</th>\n",
       "      <td>float64</td>\n",
       "    </tr>\n",
       "    <tr>\n",
       "      <th>Soybean oil</th>\n",
       "      <td>float64</td>\n",
       "    </tr>\n",
       "    <tr>\n",
       "      <th>Soybeans</th>\n",
       "      <td>float64</td>\n",
       "    </tr>\n",
       "    <tr>\n",
       "      <th>Sugar, sweeteners, bev. bases</th>\n",
       "      <td>float64</td>\n",
       "    </tr>\n",
       "    <tr>\n",
       "      <th>Tobacco</th>\n",
       "      <td>float64</td>\n",
       "    </tr>\n",
       "    <tr>\n",
       "      <th>Tree nuts</th>\n",
       "      <td>float64</td>\n",
       "    </tr>\n",
       "    <tr>\n",
       "      <th>Vegetable oils (ex. soybean)</th>\n",
       "      <td>float64</td>\n",
       "    </tr>\n",
       "    <tr>\n",
       "      <th>Wheat</th>\n",
       "      <td>float64</td>\n",
       "    </tr>\n",
       "    <tr>\n",
       "      <th>Wine and related products</th>\n",
       "      <td>float64</td>\n",
       "    </tr>\n",
       "  </tbody>\n",
       "</table>\n",
       "</div>"
      ],
      "text/plain": [
<<<<<<< HEAD
       "                                     DataType\n",
       "Commodity name                               \n",
       "Animal fats                           float64\n",
       "Bakery goods, cereals, and pasta      float64\n",
       "Beef and beef products                float64\n",
       "Beer                                  float64\n",
       "Chocolate and cocoa products          float64\n",
       "Coarse grains (ex. corn)              float64\n",
       "Condiments and sauces                 float64\n",
       "Confectionery                         float64\n",
       "Corn                                  float64\n",
       "Cotton                                float64\n",
       "Dairy products                        float64\n",
       "Dextrins, peptones, and proteins      float64\n",
       "Distilled spirits                     float64\n",
       "Distillers grains                     float64\n",
       "Dog and cat food                      float64\n",
       "Eggs and products                     float64\n",
       "Essential oils                        float64\n",
       "Ethanol (non-bev.)                    float64\n",
       "Food preparations                     float64\n",
       "Fresh fruit                           float64\n",
       "Fresh vegetables                      float64\n",
       "Fruit and vegetable juices            float64\n",
       "Hay                                   float64\n",
       "Hides and skins                       float64\n",
       "Live animals                          float64\n",
       "Meat products NESOI                   float64\n",
       "Milled grains and products            float64\n",
       "Non-alcoholic bev. (ex. juices)       float64\n",
       "Nursery products and cut flowers      float64\n",
       "Oilseeds (ex. soybean)                float64\n",
       "Other feeds, meals, and fodders       float64\n",
       "Planting seeds                        float64\n",
       "Pork and pork products                float64\n",
       "Poultry meat and products (ex. eggs)  float64\n",
       "Processed fruit                       float64\n",
       "Processed vegetables                  float64\n",
       "Pulses                                float64\n",
       "Rice                                  float64\n",
       "Soybean meal                          float64\n",
       "Soybean oil                           float64\n",
       "Soybeans                              float64\n",
       "Sugar, sweeteners, bev. bases         float64\n",
       "Tobacco                               float64\n",
       "Tree nuts                             float64\n",
       "Vegetable oils (ex. soybean)          float64\n",
       "Wheat                                 float64\n",
       "Wine and related products             float64"
      ]
     },
     "execution_count": 48,
=======
       "State                         0\n",
       "Commodity                     0\n",
       "Commodity name                0\n",
       "Country                       0\n",
       "Dollar value                  0\n",
       "Fiscal year                   0\n",
       "Fiscal quarter                0\n",
       "Trade type                    0\n",
       "Fiscal quarter description    0\n",
       "dtype: int64"
      ]
     },
     "execution_count": 13,
>>>>>>> 0cf5d7380e168bf12d218335796eea718da6b0c3
     "metadata": {},
     "output_type": "execute_result"
    }
   ],
   "source": [
    "pd.DataFrame(ndf1.dtypes, columns=[\"DataType\"])"
   ]
  },
  {
   "cell_type": "code",
<<<<<<< HEAD
   "execution_count": 21,
=======
   "execution_count": 26,
>>>>>>> 0cf5d7380e168bf12d218335796eea718da6b0c3
   "metadata": {},
   "outputs": [
    {
     "data": {
      "text/html": [
       "<div>\n",
       "<style scoped>\n",
       "    .dataframe tbody tr th:only-of-type {\n",
       "        vertical-align: middle;\n",
       "    }\n",
       "\n",
       "    .dataframe tbody tr th {\n",
       "        vertical-align: top;\n",
       "    }\n",
       "\n",
       "    .dataframe thead th {\n",
       "        text-align: right;\n",
       "    }\n",
       "</style>\n",
       "<table border=\"1\" class=\"dataframe\">\n",
       "  <thead>\n",
       "    <tr style=\"text-align: right;\">\n",
       "      <th></th>\n",
       "      <th>State</th>\n",
       "      <th>Commodity</th>\n",
       "      <th>Commodity name</th>\n",
       "      <th>Country</th>\n",
       "      <th>Dollar value</th>\n",
       "      <th>Fiscal year</th>\n",
       "      <th>Fiscal quarter</th>\n",
       "      <th>Trade type</th>\n",
       "      <th>Fiscal quarter description</th>\n",
       "    </tr>\n",
       "  </thead>\n",
       "  <tbody>\n",
       "    <tr>\n",
       "      <th>0</th>\n",
       "      <td>AK</td>\n",
       "      <td>0095AT</td>\n",
       "      <td>Live animals</td>\n",
       "      <td>World</td>\n",
       "      <td>0.0</td>\n",
       "      <td>2022</td>\n",
       "      <td>1</td>\n",
       "      <td>Exports</td>\n",
       "      <td>Fiscal Quarter 1</td>\n",
       "    </tr>\n",
       "    <tr>\n",
       "      <th>1</th>\n",
       "      <td>AK</td>\n",
       "      <td>0115AT</td>\n",
       "      <td>Other feeds, meals, and fodders</td>\n",
       "      <td>World</td>\n",
       "      <td>0.0</td>\n",
       "      <td>2022</td>\n",
       "      <td>1</td>\n",
       "      <td>Exports</td>\n",
       "      <td>Fiscal Quarter 1</td>\n",
       "    </tr>\n",
       "    <tr>\n",
       "      <th>2</th>\n",
       "      <td>AK</td>\n",
       "      <td>0125AT</td>\n",
       "      <td>Sugar, sweeteners, bev. bases</td>\n",
       "      <td>World</td>\n",
       "      <td>0.0</td>\n",
       "      <td>2022</td>\n",
       "      <td>1</td>\n",
       "      <td>Exports</td>\n",
       "      <td>Fiscal Quarter 1</td>\n",
       "    </tr>\n",
       "    <tr>\n",
       "      <th>3</th>\n",
       "      <td>AK</td>\n",
       "      <td>0127AT</td>\n",
       "      <td>Essential oils</td>\n",
       "      <td>World</td>\n",
       "      <td>0.0</td>\n",
       "      <td>2022</td>\n",
       "      <td>1</td>\n",
       "      <td>Exports</td>\n",
       "      <td>Fiscal Quarter 1</td>\n",
       "    </tr>\n",
       "    <tr>\n",
       "      <th>4</th>\n",
       "      <td>AK</td>\n",
       "      <td>0150AT</td>\n",
       "      <td>Pork and pork products</td>\n",
       "      <td>World</td>\n",
       "      <td>0.0</td>\n",
       "      <td>2022</td>\n",
       "      <td>1</td>\n",
       "      <td>Exports</td>\n",
       "      <td>Fiscal Quarter 1</td>\n",
       "    </tr>\n",
       "  </tbody>\n",
       "</table>\n",
       "</div>"
      ],
      "text/plain": [
<<<<<<< HEAD
       "['Animal fats',\n",
       " 'Bakery goods, cereals, and pasta',\n",
       " 'Beef and beef products',\n",
       " 'Beer',\n",
       " 'Chocolate and cocoa products',\n",
       " 'Coarse grains (ex. corn)',\n",
       " 'Condiments and sauces',\n",
       " 'Confectionery',\n",
       " 'Corn',\n",
       " 'Cotton',\n",
       " 'Dairy products',\n",
       " 'Dextrins, peptones, and proteins',\n",
       " 'Distilled spirits',\n",
       " 'Distillers grains',\n",
       " 'Dog and cat food',\n",
       " 'Eggs and products',\n",
       " 'Essential oils',\n",
       " 'Ethanol (non-bev.)',\n",
       " 'Food preparations',\n",
       " 'Fresh fruit',\n",
       " 'Fresh vegetables',\n",
       " 'Fruit and vegetable juices',\n",
       " 'Hay',\n",
       " 'Hides and skins',\n",
       " 'Live animals',\n",
       " 'Meat products NESOI',\n",
       " 'Milled grains and products',\n",
       " 'Non-alcoholic bev. (ex. juices)',\n",
       " 'Nursery products and cut flowers',\n",
       " 'Oilseeds (ex. soybean)',\n",
       " 'Other feeds, meals, and fodders',\n",
       " 'Planting seeds',\n",
       " 'Pork and pork products',\n",
       " 'Poultry meat and products (ex. eggs)',\n",
       " 'Processed fruit',\n",
       " 'Processed vegetables',\n",
       " 'Pulses',\n",
       " 'Rice',\n",
       " 'Soybean meal',\n",
       " 'Soybean oil',\n",
       " 'Soybeans',\n",
       " 'Sugar, sweeteners, bev. bases',\n",
       " 'Tobacco',\n",
       " 'Tree nuts',\n",
       " 'Vegetable oils (ex. soybean)',\n",
       " 'Wheat',\n",
       " 'Wine and related products']"
      ]
     },
=======
       "  State Commodity                   Commodity name Country  Dollar value  \\\n",
       "0    AK    0095AT                     Live animals   World           0.0   \n",
       "1    AK    0115AT  Other feeds, meals, and fodders   World           0.0   \n",
       "2    AK    0125AT    Sugar, sweeteners, bev. bases   World           0.0   \n",
       "3    AK    0127AT                   Essential oils   World           0.0   \n",
       "4    AK    0150AT           Pork and pork products   World           0.0   \n",
       "\n",
       "   Fiscal year  Fiscal quarter Trade type Fiscal quarter description  \n",
       "0         2022               1    Exports           Fiscal Quarter 1  \n",
       "1         2022               1    Exports           Fiscal Quarter 1  \n",
       "2         2022               1    Exports           Fiscal Quarter 1  \n",
       "3         2022               1    Exports           Fiscal Quarter 1  \n",
       "4         2022               1    Exports           Fiscal Quarter 1  "
      ]
     },
     "execution_count": 26,
     "metadata": {},
     "output_type": "execute_result"
    }
   ],
   "source": [
    "#Divide dollar amount by a million\n",
    "df[\"Dollar value\"] = df[\"Dollar value\"].astype(int) / 1000000\n",
    "df.head()"
   ]
  },
  {
   "cell_type": "code",
   "execution_count": 31,
   "metadata": {},
   "outputs": [
    {
     "data": {
      "text/html": [
       "<div>\n",
       "<style scoped>\n",
       "    .dataframe tbody tr th:only-of-type {\n",
       "        vertical-align: middle;\n",
       "    }\n",
       "\n",
       "    .dataframe tbody tr th {\n",
       "        vertical-align: top;\n",
       "    }\n",
       "\n",
       "    .dataframe thead th {\n",
       "        text-align: right;\n",
       "    }\n",
       "</style>\n",
       "<table border=\"1\" class=\"dataframe\">\n",
       "  <thead>\n",
       "    <tr style=\"text-align: right;\">\n",
       "      <th>Commodity name</th>\n",
       "      <th>Animal fats</th>\n",
       "      <th>Bakery goods, cereals, and pasta</th>\n",
       "      <th>Beef and beef products</th>\n",
       "      <th>Beer</th>\n",
       "      <th>Chocolate and cocoa products</th>\n",
       "      <th>Coarse grains (ex. corn)</th>\n",
       "      <th>Condiments and sauces</th>\n",
       "      <th>Confectionery</th>\n",
       "      <th>Corn</th>\n",
       "      <th>Cotton</th>\n",
       "      <th>...</th>\n",
       "      <th>Rice</th>\n",
       "      <th>Soybean meal</th>\n",
       "      <th>Soybean oil</th>\n",
       "      <th>Soybeans</th>\n",
       "      <th>Sugar, sweeteners, bev. bases</th>\n",
       "      <th>Tobacco</th>\n",
       "      <th>Tree nuts</th>\n",
       "      <th>Vegetable oils (ex. soybean)</th>\n",
       "      <th>Wheat</th>\n",
       "      <th>Wine and related products</th>\n",
       "    </tr>\n",
       "    <tr>\n",
       "      <th>State</th>\n",
       "      <th></th>\n",
       "      <th></th>\n",
       "      <th></th>\n",
       "      <th></th>\n",
       "      <th></th>\n",
       "      <th></th>\n",
       "      <th></th>\n",
       "      <th></th>\n",
       "      <th></th>\n",
       "      <th></th>\n",
       "      <th></th>\n",
       "      <th></th>\n",
       "      <th></th>\n",
       "      <th></th>\n",
       "      <th></th>\n",
       "      <th></th>\n",
       "      <th></th>\n",
       "      <th></th>\n",
       "      <th></th>\n",
       "      <th></th>\n",
       "      <th></th>\n",
       "    </tr>\n",
       "  </thead>\n",
       "  <tbody>\n",
       "    <tr>\n",
       "      <th>AK</th>\n",
       "      <td>0.00</td>\n",
       "      <td>0.01</td>\n",
       "      <td>0.04</td>\n",
       "      <td>0.35</td>\n",
       "      <td>0.00</td>\n",
       "      <td>0.00</td>\n",
       "      <td>0.05</td>\n",
       "      <td>0.02</td>\n",
       "      <td>0.00</td>\n",
       "      <td>0.27</td>\n",
       "      <td>...</td>\n",
       "      <td>0.04</td>\n",
       "      <td>0.00</td>\n",
       "      <td>0.00</td>\n",
       "      <td>0.00</td>\n",
       "      <td>0.02</td>\n",
       "      <td>0.02</td>\n",
       "      <td>0.00</td>\n",
       "      <td>0.00</td>\n",
       "      <td>0.00</td>\n",
       "      <td>0.13</td>\n",
       "    </tr>\n",
       "    <tr>\n",
       "      <th>AL</th>\n",
       "      <td>0.40</td>\n",
       "      <td>0.18</td>\n",
       "      <td>6.87</td>\n",
       "      <td>0.00</td>\n",
       "      <td>0.78</td>\n",
       "      <td>0.00</td>\n",
       "      <td>0.68</td>\n",
       "      <td>0.35</td>\n",
       "      <td>0.05</td>\n",
       "      <td>18.90</td>\n",
       "      <td>...</td>\n",
       "      <td>0.00</td>\n",
       "      <td>0.00</td>\n",
       "      <td>4.89</td>\n",
       "      <td>318.97</td>\n",
       "      <td>9.46</td>\n",
       "      <td>0.00</td>\n",
       "      <td>0.16</td>\n",
       "      <td>2.00</td>\n",
       "      <td>0.00</td>\n",
       "      <td>0.00</td>\n",
       "    </tr>\n",
       "    <tr>\n",
       "      <th>AR</th>\n",
       "      <td>0.96</td>\n",
       "      <td>7.53</td>\n",
       "      <td>7.65</td>\n",
       "      <td>0.00</td>\n",
       "      <td>0.01</td>\n",
       "      <td>0.00</td>\n",
       "      <td>1.34</td>\n",
       "      <td>27.66</td>\n",
       "      <td>0.00</td>\n",
       "      <td>128.31</td>\n",
       "      <td>...</td>\n",
       "      <td>147.45</td>\n",
       "      <td>0.01</td>\n",
       "      <td>0.00</td>\n",
       "      <td>3.65</td>\n",
       "      <td>27.68</td>\n",
       "      <td>0.00</td>\n",
       "      <td>0.06</td>\n",
       "      <td>1.39</td>\n",
       "      <td>0.00</td>\n",
       "      <td>0.16</td>\n",
       "    </tr>\n",
       "    <tr>\n",
       "      <th>AZ</th>\n",
       "      <td>3.92</td>\n",
       "      <td>4.64</td>\n",
       "      <td>119.14</td>\n",
       "      <td>0.01</td>\n",
       "      <td>3.98</td>\n",
       "      <td>0.06</td>\n",
       "      <td>2.41</td>\n",
       "      <td>34.02</td>\n",
       "      <td>0.00</td>\n",
       "      <td>80.90</td>\n",
       "      <td>...</td>\n",
       "      <td>0.44</td>\n",
       "      <td>0.21</td>\n",
       "      <td>0.24</td>\n",
       "      <td>0.00</td>\n",
       "      <td>34.02</td>\n",
       "      <td>0.06</td>\n",
       "      <td>15.08</td>\n",
       "      <td>9.50</td>\n",
       "      <td>21.95</td>\n",
       "      <td>0.11</td>\n",
       "    </tr>\n",
       "    <tr>\n",
       "      <th>CA</th>\n",
       "      <td>13.48</td>\n",
       "      <td>259.95</td>\n",
       "      <td>610.46</td>\n",
       "      <td>33.03</td>\n",
       "      <td>118.59</td>\n",
       "      <td>0.59</td>\n",
       "      <td>242.39</td>\n",
       "      <td>741.03</td>\n",
       "      <td>5.85</td>\n",
       "      <td>337.35</td>\n",
       "      <td>...</td>\n",
       "      <td>314.61</td>\n",
       "      <td>13.32</td>\n",
       "      <td>8.76</td>\n",
       "      <td>58.29</td>\n",
       "      <td>725.55</td>\n",
       "      <td>0.03</td>\n",
       "      <td>4737.49</td>\n",
       "      <td>125.82</td>\n",
       "      <td>0.19</td>\n",
       "      <td>618.10</td>\n",
       "    </tr>\n",
       "  </tbody>\n",
       "</table>\n",
       "<p>5 rows × 47 columns</p>\n",
       "</div>"
      ],
      "text/plain": [
       "Commodity name  Animal fats  Bakery goods, cereals, and pasta  \\\n",
       "State                                                           \n",
       "AK                     0.00                              0.01   \n",
       "AL                     0.40                              0.18   \n",
       "AR                     0.96                              7.53   \n",
       "AZ                     3.92                              4.64   \n",
       "CA                    13.48                            259.95   \n",
       "\n",
       "Commodity name  Beef and beef products   Beer  Chocolate and cocoa products  \\\n",
       "State                                                                         \n",
       "AK                                0.04   0.35                          0.00   \n",
       "AL                                6.87   0.00                          0.78   \n",
       "AR                                7.65   0.00                          0.01   \n",
       "AZ                              119.14   0.01                          3.98   \n",
       "CA                              610.46  33.03                        118.59   \n",
       "\n",
       "Commodity name  Coarse grains (ex. corn)  Condiments and sauces  \\\n",
       "State                                                             \n",
       "AK                                  0.00                   0.05   \n",
       "AL                                  0.00                   0.68   \n",
       "AR                                  0.00                   1.34   \n",
       "AZ                                  0.06                   2.41   \n",
       "CA                                  0.59                 242.39   \n",
       "\n",
       "Commodity name  Confectionery  Corn  Cotton  ...    Rice  Soybean meal  \\\n",
       "State                                        ...                         \n",
       "AK                       0.02  0.00    0.27  ...    0.04          0.00   \n",
       "AL                       0.35  0.05   18.90  ...    0.00          0.00   \n",
       "AR                      27.66  0.00  128.31  ...  147.45          0.01   \n",
       "AZ                      34.02  0.00   80.90  ...    0.44          0.21   \n",
       "CA                     741.03  5.85  337.35  ...  314.61         13.32   \n",
       "\n",
       "Commodity name  Soybean oil  Soybeans  Sugar, sweeteners, bev. bases  Tobacco  \\\n",
       "State                                                                           \n",
       "AK                     0.00      0.00                           0.02     0.02   \n",
       "AL                     4.89    318.97                           9.46     0.00   \n",
       "AR                     0.00      3.65                          27.68     0.00   \n",
       "AZ                     0.24      0.00                          34.02     0.06   \n",
       "CA                     8.76     58.29                         725.55     0.03   \n",
       "\n",
       "Commodity name  Tree nuts  Vegetable oils (ex. soybean)  Wheat  \\\n",
       "State                                                            \n",
       "AK                   0.00                          0.00   0.00   \n",
       "AL                   0.16                          2.00   0.00   \n",
       "AR                   0.06                          1.39   0.00   \n",
       "AZ                  15.08                          9.50  21.95   \n",
       "CA                4737.49                        125.82   0.19   \n",
       "\n",
       "Commodity name  Wine and related products  \n",
       "State                                      \n",
       "AK                                   0.13  \n",
       "AL                                   0.00  \n",
       "AR                                   0.16  \n",
       "AZ                                   0.11  \n",
       "CA                                 618.10  \n",
       "\n",
       "[5 rows x 47 columns]"
      ]
     },
     "execution_count": 31,
     "metadata": {},
     "output_type": "execute_result"
    }
   ],
   "source": [
    "#Updated data frame with dollar amount in millions\n",
    "ndf1 = df.groupby([\"State\", \"Commodity name\"])[\"Dollar value\"].aggregate(\"sum\").unstack()\n",
    "#ndf1.head()\n",
    "ndf1 = ndf.fillna(0)\n",
    "#ndf1.head()\n",
    "ndf1.loc[:, ndf1.columns != 'State'] = ndf1.loc[:, ndf1.columns != 'State'] / 1000000\n",
    "ndf1.loc[:, ndf1.columns != 'State'] = ndf1.loc[:, ndf1.columns != 'State'].round(2)\n",
    "ndf1.head()"
   ]
  },
  {
   "cell_type": "code",
   "execution_count": 19,
   "metadata": {},
   "outputs": [
    {
     "data": {
      "text/html": [
       "<div>\n",
       "<style scoped>\n",
       "    .dataframe tbody tr th:only-of-type {\n",
       "        vertical-align: middle;\n",
       "    }\n",
       "\n",
       "    .dataframe tbody tr th {\n",
       "        vertical-align: top;\n",
       "    }\n",
       "\n",
       "    .dataframe thead th {\n",
       "        text-align: right;\n",
       "    }\n",
       "</style>\n",
       "<table border=\"1\" class=\"dataframe\">\n",
       "  <thead>\n",
       "    <tr style=\"text-align: right;\">\n",
       "      <th>Commodity name</th>\n",
       "      <th>Animal fats</th>\n",
       "      <th>Bakery goods, cereals, and pasta</th>\n",
       "      <th>Beef and beef products</th>\n",
       "      <th>Beer</th>\n",
       "      <th>Chocolate and cocoa products</th>\n",
       "      <th>Coarse grains (ex. corn)</th>\n",
       "      <th>Condiments and sauces</th>\n",
       "      <th>Confectionery</th>\n",
       "      <th>Corn</th>\n",
       "      <th>Cotton</th>\n",
       "      <th>...</th>\n",
       "      <th>Rice</th>\n",
       "      <th>Soybean meal</th>\n",
       "      <th>Soybean oil</th>\n",
       "      <th>Soybeans</th>\n",
       "      <th>Sugar, sweeteners, bev. bases</th>\n",
       "      <th>Tobacco</th>\n",
       "      <th>Tree nuts</th>\n",
       "      <th>Vegetable oils (ex. soybean)</th>\n",
       "      <th>Wheat</th>\n",
       "      <th>Wine and related products</th>\n",
       "    </tr>\n",
       "    <tr>\n",
       "      <th>State</th>\n",
       "      <th></th>\n",
       "      <th></th>\n",
       "      <th></th>\n",
       "      <th></th>\n",
       "      <th></th>\n",
       "      <th></th>\n",
       "      <th></th>\n",
       "      <th></th>\n",
       "      <th></th>\n",
       "      <th></th>\n",
       "      <th></th>\n",
       "      <th></th>\n",
       "      <th></th>\n",
       "      <th></th>\n",
       "      <th></th>\n",
       "      <th></th>\n",
       "      <th></th>\n",
       "      <th></th>\n",
       "      <th></th>\n",
       "      <th></th>\n",
       "      <th></th>\n",
       "    </tr>\n",
       "  </thead>\n",
       "  <tbody>\n",
       "    <tr>\n",
       "      <th>AK</th>\n",
       "      <td>0.0</td>\n",
       "      <td>8000.0</td>\n",
       "      <td>41878.0</td>\n",
       "      <td>345858.0</td>\n",
       "      <td>0.0</td>\n",
       "      <td>0.0</td>\n",
       "      <td>53844.0</td>\n",
       "      <td>25000.0</td>\n",
       "      <td>0.0</td>\n",
       "      <td>272902.0</td>\n",
       "      <td>...</td>\n",
       "      <td>35549.0</td>\n",
       "      <td>0.0</td>\n",
       "      <td>0.0</td>\n",
       "      <td>0.0</td>\n",
       "      <td>25000.0</td>\n",
       "      <td>15350.0</td>\n",
       "      <td>0.000000e+00</td>\n",
       "      <td>0.0</td>\n",
       "      <td>0.0</td>\n",
       "      <td>125333.0</td>\n",
       "    </tr>\n",
       "    <tr>\n",
       "      <th>AL</th>\n",
       "      <td>399729.0</td>\n",
       "      <td>182656.0</td>\n",
       "      <td>6871069.0</td>\n",
       "      <td>0.0</td>\n",
       "      <td>779015.0</td>\n",
       "      <td>0.0</td>\n",
       "      <td>683250.0</td>\n",
       "      <td>350122.0</td>\n",
       "      <td>47160.0</td>\n",
       "      <td>18899384.0</td>\n",
       "      <td>...</td>\n",
       "      <td>0.0</td>\n",
       "      <td>0.0</td>\n",
       "      <td>4886290.0</td>\n",
       "      <td>318974495.0</td>\n",
       "      <td>9458664.0</td>\n",
       "      <td>0.0</td>\n",
       "      <td>1.587330e+05</td>\n",
       "      <td>2004674.0</td>\n",
       "      <td>0.0</td>\n",
       "      <td>0.0</td>\n",
       "    </tr>\n",
       "    <tr>\n",
       "      <th>AR</th>\n",
       "      <td>963647.0</td>\n",
       "      <td>7528036.0</td>\n",
       "      <td>7647824.0</td>\n",
       "      <td>0.0</td>\n",
       "      <td>6705.0</td>\n",
       "      <td>0.0</td>\n",
       "      <td>1337571.0</td>\n",
       "      <td>27663935.0</td>\n",
       "      <td>0.0</td>\n",
       "      <td>128308943.0</td>\n",
       "      <td>...</td>\n",
       "      <td>147449013.0</td>\n",
       "      <td>6783.0</td>\n",
       "      <td>0.0</td>\n",
       "      <td>3648077.0</td>\n",
       "      <td>27678133.0</td>\n",
       "      <td>0.0</td>\n",
       "      <td>6.374500e+04</td>\n",
       "      <td>1392569.0</td>\n",
       "      <td>0.0</td>\n",
       "      <td>164660.0</td>\n",
       "    </tr>\n",
       "    <tr>\n",
       "      <th>AZ</th>\n",
       "      <td>3918467.0</td>\n",
       "      <td>4637579.0</td>\n",
       "      <td>119135272.0</td>\n",
       "      <td>14457.0</td>\n",
       "      <td>3982636.0</td>\n",
       "      <td>60752.0</td>\n",
       "      <td>2409180.0</td>\n",
       "      <td>34024989.0</td>\n",
       "      <td>0.0</td>\n",
       "      <td>80903828.0</td>\n",
       "      <td>...</td>\n",
       "      <td>438842.0</td>\n",
       "      <td>211020.0</td>\n",
       "      <td>241842.0</td>\n",
       "      <td>0.0</td>\n",
       "      <td>34024157.0</td>\n",
       "      <td>63598.0</td>\n",
       "      <td>1.508005e+07</td>\n",
       "      <td>9503559.0</td>\n",
       "      <td>21949024.0</td>\n",
       "      <td>110000.0</td>\n",
       "    </tr>\n",
       "    <tr>\n",
       "      <th>CA</th>\n",
       "      <td>13484131.0</td>\n",
       "      <td>259952832.0</td>\n",
       "      <td>610460336.0</td>\n",
       "      <td>33033725.0</td>\n",
       "      <td>118592026.0</td>\n",
       "      <td>588734.0</td>\n",
       "      <td>242391295.0</td>\n",
       "      <td>741029016.0</td>\n",
       "      <td>5847216.0</td>\n",
       "      <td>337353779.0</td>\n",
       "      <td>...</td>\n",
       "      <td>314608659.0</td>\n",
       "      <td>13323924.0</td>\n",
       "      <td>8760666.0</td>\n",
       "      <td>58288660.0</td>\n",
       "      <td>725545724.0</td>\n",
       "      <td>31354.0</td>\n",
       "      <td>4.737490e+09</td>\n",
       "      <td>125816053.0</td>\n",
       "      <td>192466.0</td>\n",
       "      <td>618103825.0</td>\n",
       "    </tr>\n",
       "  </tbody>\n",
       "</table>\n",
       "<p>5 rows × 47 columns</p>\n",
       "</div>"
      ],
      "text/plain": [
       "Commodity name  Animal fats  Bakery goods, cereals, and pasta  \\\n",
       "State                                                           \n",
       "AK                      0.0                            8000.0   \n",
       "AL                 399729.0                          182656.0   \n",
       "AR                 963647.0                         7528036.0   \n",
       "AZ                3918467.0                         4637579.0   \n",
       "CA               13484131.0                       259952832.0   \n",
       "\n",
       "Commodity name  Beef and beef products        Beer  \\\n",
       "State                                                \n",
       "AK                             41878.0    345858.0   \n",
       "AL                           6871069.0         0.0   \n",
       "AR                           7647824.0         0.0   \n",
       "AZ                         119135272.0     14457.0   \n",
       "CA                         610460336.0  33033725.0   \n",
       "\n",
       "Commodity name  Chocolate and cocoa products  Coarse grains (ex. corn)  \\\n",
       "State                                                                    \n",
       "AK                                       0.0                       0.0   \n",
       "AL                                  779015.0                       0.0   \n",
       "AR                                    6705.0                       0.0   \n",
       "AZ                                 3982636.0                   60752.0   \n",
       "CA                               118592026.0                  588734.0   \n",
       "\n",
       "Commodity name  Condiments and sauces  Confectionery       Corn       Cotton  \\\n",
       "State                                                                          \n",
       "AK                            53844.0        25000.0        0.0     272902.0   \n",
       "AL                           683250.0       350122.0    47160.0   18899384.0   \n",
       "AR                          1337571.0     27663935.0        0.0  128308943.0   \n",
       "AZ                          2409180.0     34024989.0        0.0   80903828.0   \n",
       "CA                        242391295.0    741029016.0  5847216.0  337353779.0   \n",
       "\n",
       "Commodity name  ...         Rice  Soybean meal  Soybean oil     Soybeans  \\\n",
       "State           ...                                                        \n",
       "AK              ...      35549.0           0.0          0.0          0.0   \n",
       "AL              ...          0.0           0.0    4886290.0  318974495.0   \n",
       "AR              ...  147449013.0        6783.0          0.0    3648077.0   \n",
       "AZ              ...     438842.0      211020.0     241842.0          0.0   \n",
       "CA              ...  314608659.0    13323924.0    8760666.0   58288660.0   \n",
       "\n",
       "Commodity name  Sugar, sweeteners, bev. bases  Tobacco     Tree nuts  \\\n",
       "State                                                                  \n",
       "AK                                    25000.0  15350.0  0.000000e+00   \n",
       "AL                                  9458664.0      0.0  1.587330e+05   \n",
       "AR                                 27678133.0      0.0  6.374500e+04   \n",
       "AZ                                 34024157.0  63598.0  1.508005e+07   \n",
       "CA                                725545724.0  31354.0  4.737490e+09   \n",
       "\n",
       "Commodity name  Vegetable oils (ex. soybean)       Wheat  \\\n",
       "State                                                      \n",
       "AK                                       0.0         0.0   \n",
       "AL                                 2004674.0         0.0   \n",
       "AR                                 1392569.0         0.0   \n",
       "AZ                                 9503559.0  21949024.0   \n",
       "CA                               125816053.0    192466.0   \n",
       "\n",
       "Commodity name  Wine and related products  \n",
       "State                                      \n",
       "AK                               125333.0  \n",
       "AL                                    0.0  \n",
       "AR                               164660.0  \n",
       "AZ                               110000.0  \n",
       "CA                            618103825.0  \n",
       "\n",
       "[5 rows x 47 columns]"
      ]
     },
     "execution_count": 19,
     "metadata": {},
     "output_type": "execute_result"
    }
   ],
   "source": [
    "#old dataframe for safekeeping - in case something goes wrong\n",
    "ndf = df.groupby([\"State\", \"Commodity name\"])[\"Dollar value\"].aggregate(\"sum\").unstack()\n",
    "ndf.head()\n",
    "ndf = ndf.fillna(0)\n",
    "ndf.head()"
   ]
  },
  {
   "cell_type": "code",
   "execution_count": null,
   "metadata": {},
   "outputs": [],
   "source": []
  },
  {
   "cell_type": "code",
   "execution_count": 21,
   "metadata": {},
   "outputs": [
    {
     "data": {
      "text/plain": [
       "['Animal fats',\n",
       " 'Bakery goods, cereals, and pasta',\n",
       " 'Beef and beef products',\n",
       " 'Beer',\n",
       " 'Chocolate and cocoa products',\n",
       " 'Coarse grains (ex. corn)',\n",
       " 'Condiments and sauces',\n",
       " 'Confectionery',\n",
       " 'Corn',\n",
       " 'Cotton',\n",
       " 'Dairy products',\n",
       " 'Dextrins, peptones, and proteins',\n",
       " 'Distilled spirits',\n",
       " 'Distillers grains',\n",
       " 'Dog and cat food',\n",
       " 'Eggs and products',\n",
       " 'Essential oils',\n",
       " 'Ethanol (non-bev.)',\n",
       " 'Food preparations',\n",
       " 'Fresh fruit',\n",
       " 'Fresh vegetables',\n",
       " 'Fruit and vegetable juices',\n",
       " 'Hay',\n",
       " 'Hides and skins',\n",
       " 'Live animals',\n",
       " 'Meat products NESOI',\n",
       " 'Milled grains and products',\n",
       " 'Non-alcoholic bev. (ex. juices)',\n",
       " 'Nursery products and cut flowers',\n",
       " 'Oilseeds (ex. soybean)',\n",
       " 'Other feeds, meals, and fodders',\n",
       " 'Planting seeds',\n",
       " 'Pork and pork products',\n",
       " 'Poultry meat and products (ex. eggs)',\n",
       " 'Processed fruit',\n",
       " 'Processed vegetables',\n",
       " 'Pulses',\n",
       " 'Rice',\n",
       " 'Soybean meal',\n",
       " 'Soybean oil',\n",
       " 'Soybeans',\n",
       " 'Sugar, sweeteners, bev. bases',\n",
       " 'Tobacco',\n",
       " 'Tree nuts',\n",
       " 'Vegetable oils (ex. soybean)',\n",
       " 'Wheat',\n",
       " 'Wine and related products']"
      ]
     },
>>>>>>> 0cf5d7380e168bf12d218335796eea718da6b0c3
     "execution_count": 21,
     "metadata": {},
     "output_type": "execute_result"
    }
   ],
   "source": [
    "# make a list of columns\n",
    "list_of_columns=list(ndf.columns)\n",
    "#list_of_columns.remove('state')\n",
    "#list_of_columns.remove('category')\n",
    "#list_of_columns.remove('code')\n",
    "list_of_columns"
   ]
  },
  {
   "cell_type": "code",
<<<<<<< HEAD
   "execution_count": 58,
=======
   "execution_count": 32,
>>>>>>> 0cf5d7380e168bf12d218335796eea718da6b0c3
   "metadata": {},
   "outputs": [],
   "source": [
    "ndf1.to_csv('../assets/us-exports-2022.csv')"
   ]
  },
  {
   "cell_type": "code",
<<<<<<< HEAD
   "execution_count": 40,
   "metadata": {
    "tags": []
=======
   "execution_count": 8,
   "metadata": {
    "collapsed": true,
    "jupyter": {
     "outputs_hidden": true
    }
>>>>>>> 0cf5d7380e168bf12d218335796eea718da6b0c3
   },
   "outputs": [
    {
     "data": {
      "text/plain": [
       "plotly.graph_objs._choropleth.Choropleth"
      ]
     },
     "execution_count": 40,
     "metadata": {},
     "output_type": "execute_result"
    }
   ],
   "source": [
    "# data objects\n",
    "go.Bar\n",
    "go.Scatter\n",
    "go.Pie\n",
    "go.Choropleth\n",
    "\n",
    "# figure objects\n",
    "#go.Format\n",
    "#go.Figure\n"
   ]
  },
  {
   "cell_type": "code",
   "execution_count": 56,
   "metadata": {
<<<<<<< HEAD
    "tags": []
=======
    "collapsed": true,
    "jupyter": {
     "outputs_hidden": true
    }
>>>>>>> 0cf5d7380e168bf12d218335796eea718da6b0c3
   },
   "outputs": [
    {
     "data": {
      "text/plain": [
       "Choropleth({\n",
       "    'colorbar': {'title': {'text': 'some title'}},\n",
       "    'colorscale': [[0.0, 'lightgrey'], [1.0, 'blue']],\n",
       "    'locationmode': 'USA-states',\n",
       "    'locations': array(['AK', 'AL', 'AR', 'AZ', 'CA', 'CO', 'CT', 'DC', 'DE', 'FL', 'GA', 'HI',\n",
       "                        'IA', 'ID', 'IL', 'IN', 'KS', 'KY', 'LA', 'MA', 'MD', 'ME', 'MI', 'MN',\n",
       "                        'MO', 'MS', 'MT', 'NC', 'ND', 'NE', 'NH', 'NJ', 'NM', 'NV', 'NY', 'OH',\n",
       "                        'OK', 'OR', 'PA', 'PR', 'RI', 'SC', 'SD', 'TN', 'TX', 'UT', 'VA', 'VI',\n",
       "                        'VT', 'WA', 'WI', 'WV', 'WY', 'XX'], dtype=object),\n",
       "    'z': array([0.00000000e+00, 4.71600000e+04, 0.00000000e+00, 0.00000000e+00,\n",
       "                5.84721600e+06, 5.95140300e+06, 0.00000000e+00, 0.00000000e+00,\n",
       "                0.00000000e+00, 2.12947800e+06, 6.14550000e+04, 0.00000000e+00,\n",
       "                7.57253685e+08, 0.00000000e+00, 5.76126668e+08, 2.22535170e+07,\n",
       "                2.91393939e+08, 3.83293600e+06, 4.89540547e+09, 0.00000000e+00,\n",
       "                1.16169900e+06, 2.66040000e+04, 2.33097070e+07, 5.67040087e+08,\n",
       "                1.98266597e+08, 0.00000000e+00, 9.43102400e+06, 1.50000000e+04,\n",
       "                1.56335492e+08, 2.76278057e+08, 0.00000000e+00, 1.33185000e+05,\n",
       "                2.25415600e+06, 0.00000000e+00, 3.20688500e+06, 1.84206310e+07,\n",
       "                0.00000000e+00, 2.78494600e+06, 7.61259000e+05, 3.10390000e+04,\n",
       "                0.00000000e+00, 9.58890000e+04, 1.57824380e+07, 5.37300000e+03,\n",
       "                1.01244556e+08, 0.00000000e+00, 2.15702400e+07, 0.00000000e+00,\n",
       "                8.47742000e+05, 1.37547774e+09, 4.12133040e+07, 0.00000000e+00,\n",
       "                0.00000000e+00, 1.47634000e+05])\n",
       "})"
      ]
     },
     "execution_count": 56,
     "metadata": {},
     "output_type": "execute_result"
    }
   ],
   "source": [
    "data=go.Choropleth(\n",
    "    locations=ndf['State'], # Spatial coordinates\n",
    "    locationmode = 'USA-states', # set of locations match entries in `locations`\n",
    "    z = ndf['Corn'], # Data to be color-coded\n",
    "    colorscale = ['lightgrey','blue'],\n",
    "    colorbar_title = 'some title',\n",
    ")\n",
    "data"
   ]
  },
  {
   "cell_type": "code",
   "execution_count": 16,
   "metadata": {
    "collapsed": true,
    "jupyter": {
     "outputs_hidden": true
    }
   },
   "outputs": [
    {
     "data": {
      "application/vnd.plotly.v1+json": {
       "config": {
        "plotlyServerURL": "https://plot.ly"
       },
       "data": [
        {
         "colorbar": {
          "title": {
           "text": "some title"
          }
         },
         "colorscale": [
          [
           0,
           "lightgrey"
          ],
          [
           1,
           "blue"
          ]
         ],
         "locationmode": "USA-states",
         "locations": [
          "AL",
          "AK",
          "AZ",
          "AR",
          "CA",
          "CO",
          "CT",
          "DE",
          "FL",
          "GA",
          "HI",
          "ID",
          "IL",
          "IN",
          "IA",
          "KS",
          "KY",
          "LA",
          "ME",
          "MD",
          "MA",
          "MI",
          "MN",
          "MS",
          "MO",
          "MT",
          "NE",
          "NV",
          "NH",
          "NJ",
          "NM",
          "NY",
          "NC",
          "ND",
          "OH",
          "OK",
          "OR",
          "PA",
          "RI",
          "SC",
          "SD",
          "TN",
          "TX",
          "UT",
          "VT",
          "VA",
          "WA",
          "WV",
          "WI",
          "WY"
         ],
         "type": "choropleth",
         "z": [
          34.9,
          0,
          7.3,
          69.5,
          34.6,
          183.2,
          0,
          26.9,
          3.5,
          57.8,
          0,
          24,
          2228.5,
          1123.2,
          2529.8,
          457.3,
          179.1,
          91.4,
          0,
          54.1,
          0,
          381.5,
          1264.3,
          110,
          428.8,
          5.4,
          1735.9,
          0,
          0,
          10.1,
          11.2,
          106.1,
          92.2,
          236.1,
          535.1,
          27.5,
          11.7,
          112.1,
          0,
          32.1,
          643.6,
          88.8,
          167.2,
          5.3,
          0,
          39.5,
          29.5,
          3.5,
          460.5,
          9
         ]
        }
       ],
       "layout": {
        "geo": {
         "scope": "usa"
        },
        "height": 800,
        "template": {
         "data": {
          "bar": [
           {
            "error_x": {
             "color": "#2a3f5f"
            },
            "error_y": {
             "color": "#2a3f5f"
            },
            "marker": {
             "line": {
              "color": "#E5ECF6",
              "width": 0.5
             }
            },
            "type": "bar"
           }
          ],
          "barpolar": [
           {
            "marker": {
             "line": {
              "color": "#E5ECF6",
              "width": 0.5
             }
            },
            "type": "barpolar"
           }
          ],
          "carpet": [
           {
            "aaxis": {
             "endlinecolor": "#2a3f5f",
             "gridcolor": "white",
             "linecolor": "white",
             "minorgridcolor": "white",
             "startlinecolor": "#2a3f5f"
            },
            "baxis": {
             "endlinecolor": "#2a3f5f",
             "gridcolor": "white",
             "linecolor": "white",
             "minorgridcolor": "white",
             "startlinecolor": "#2a3f5f"
            },
            "type": "carpet"
           }
          ],
          "choropleth": [
           {
            "colorbar": {
             "outlinewidth": 0,
             "ticks": ""
            },
            "type": "choropleth"
           }
          ],
          "contour": [
           {
            "colorbar": {
             "outlinewidth": 0,
             "ticks": ""
            },
            "colorscale": [
             [
              0,
              "#0d0887"
             ],
             [
              0.1111111111111111,
              "#46039f"
             ],
             [
              0.2222222222222222,
              "#7201a8"
             ],
             [
              0.3333333333333333,
              "#9c179e"
             ],
             [
              0.4444444444444444,
              "#bd3786"
             ],
             [
              0.5555555555555556,
              "#d8576b"
             ],
             [
              0.6666666666666666,
              "#ed7953"
             ],
             [
              0.7777777777777778,
              "#fb9f3a"
             ],
             [
              0.8888888888888888,
              "#fdca26"
             ],
             [
              1,
              "#f0f921"
             ]
            ],
            "type": "contour"
           }
          ],
          "contourcarpet": [
           {
            "colorbar": {
             "outlinewidth": 0,
             "ticks": ""
            },
            "type": "contourcarpet"
           }
          ],
          "heatmap": [
           {
            "colorbar": {
             "outlinewidth": 0,
             "ticks": ""
            },
            "colorscale": [
             [
              0,
              "#0d0887"
             ],
             [
              0.1111111111111111,
              "#46039f"
             ],
             [
              0.2222222222222222,
              "#7201a8"
             ],
             [
              0.3333333333333333,
              "#9c179e"
             ],
             [
              0.4444444444444444,
              "#bd3786"
             ],
             [
              0.5555555555555556,
              "#d8576b"
             ],
             [
              0.6666666666666666,
              "#ed7953"
             ],
             [
              0.7777777777777778,
              "#fb9f3a"
             ],
             [
              0.8888888888888888,
              "#fdca26"
             ],
             [
              1,
              "#f0f921"
             ]
            ],
            "type": "heatmap"
           }
          ],
          "heatmapgl": [
           {
            "colorbar": {
             "outlinewidth": 0,
             "ticks": ""
            },
            "colorscale": [
             [
              0,
              "#0d0887"
             ],
             [
              0.1111111111111111,
              "#46039f"
             ],
             [
              0.2222222222222222,
              "#7201a8"
             ],
             [
              0.3333333333333333,
              "#9c179e"
             ],
             [
              0.4444444444444444,
              "#bd3786"
             ],
             [
              0.5555555555555556,
              "#d8576b"
             ],
             [
              0.6666666666666666,
              "#ed7953"
             ],
             [
              0.7777777777777778,
              "#fb9f3a"
             ],
             [
              0.8888888888888888,
              "#fdca26"
             ],
             [
              1,
              "#f0f921"
             ]
            ],
            "type": "heatmapgl"
           }
          ],
          "histogram": [
           {
            "marker": {
             "colorbar": {
              "outlinewidth": 0,
              "ticks": ""
             }
            },
            "type": "histogram"
           }
          ],
          "histogram2d": [
           {
            "colorbar": {
             "outlinewidth": 0,
             "ticks": ""
            },
            "colorscale": [
             [
              0,
              "#0d0887"
             ],
             [
              0.1111111111111111,
              "#46039f"
             ],
             [
              0.2222222222222222,
              "#7201a8"
             ],
             [
              0.3333333333333333,
              "#9c179e"
             ],
             [
              0.4444444444444444,
              "#bd3786"
             ],
             [
              0.5555555555555556,
              "#d8576b"
             ],
             [
              0.6666666666666666,
              "#ed7953"
             ],
             [
              0.7777777777777778,
              "#fb9f3a"
             ],
             [
              0.8888888888888888,
              "#fdca26"
             ],
             [
              1,
              "#f0f921"
             ]
            ],
            "type": "histogram2d"
           }
          ],
          "histogram2dcontour": [
           {
            "colorbar": {
             "outlinewidth": 0,
             "ticks": ""
            },
            "colorscale": [
             [
              0,
              "#0d0887"
             ],
             [
              0.1111111111111111,
              "#46039f"
             ],
             [
              0.2222222222222222,
              "#7201a8"
             ],
             [
              0.3333333333333333,
              "#9c179e"
             ],
             [
              0.4444444444444444,
              "#bd3786"
             ],
             [
              0.5555555555555556,
              "#d8576b"
             ],
             [
              0.6666666666666666,
              "#ed7953"
             ],
             [
              0.7777777777777778,
              "#fb9f3a"
             ],
             [
              0.8888888888888888,
              "#fdca26"
             ],
             [
              1,
              "#f0f921"
             ]
            ],
            "type": "histogram2dcontour"
           }
          ],
          "mesh3d": [
           {
            "colorbar": {
             "outlinewidth": 0,
             "ticks": ""
            },
            "type": "mesh3d"
           }
          ],
          "parcoords": [
           {
            "line": {
             "colorbar": {
              "outlinewidth": 0,
              "ticks": ""
             }
            },
            "type": "parcoords"
           }
          ],
          "pie": [
           {
            "automargin": true,
            "type": "pie"
           }
          ],
          "scatter": [
           {
            "marker": {
             "colorbar": {
              "outlinewidth": 0,
              "ticks": ""
             }
            },
            "type": "scatter"
           }
          ],
          "scatter3d": [
           {
            "line": {
             "colorbar": {
              "outlinewidth": 0,
              "ticks": ""
             }
            },
            "marker": {
             "colorbar": {
              "outlinewidth": 0,
              "ticks": ""
             }
            },
            "type": "scatter3d"
           }
          ],
          "scattercarpet": [
           {
            "marker": {
             "colorbar": {
              "outlinewidth": 0,
              "ticks": ""
             }
            },
            "type": "scattercarpet"
           }
          ],
          "scattergeo": [
           {
            "marker": {
             "colorbar": {
              "outlinewidth": 0,
              "ticks": ""
             }
            },
            "type": "scattergeo"
           }
          ],
          "scattergl": [
           {
            "marker": {
             "colorbar": {
              "outlinewidth": 0,
              "ticks": ""
             }
            },
            "type": "scattergl"
           }
          ],
          "scattermapbox": [
           {
            "marker": {
             "colorbar": {
              "outlinewidth": 0,
              "ticks": ""
             }
            },
            "type": "scattermapbox"
           }
          ],
          "scatterpolar": [
           {
            "marker": {
             "colorbar": {
              "outlinewidth": 0,
              "ticks": ""
             }
            },
            "type": "scatterpolar"
           }
          ],
          "scatterpolargl": [
           {
            "marker": {
             "colorbar": {
              "outlinewidth": 0,
              "ticks": ""
             }
            },
            "type": "scatterpolargl"
           }
          ],
          "scatterternary": [
           {
            "marker": {
             "colorbar": {
              "outlinewidth": 0,
              "ticks": ""
             }
            },
            "type": "scatterternary"
           }
          ],
          "surface": [
           {
            "colorbar": {
             "outlinewidth": 0,
             "ticks": ""
            },
            "colorscale": [
             [
              0,
              "#0d0887"
             ],
             [
              0.1111111111111111,
              "#46039f"
             ],
             [
              0.2222222222222222,
              "#7201a8"
             ],
             [
              0.3333333333333333,
              "#9c179e"
             ],
             [
              0.4444444444444444,
              "#bd3786"
             ],
             [
              0.5555555555555556,
              "#d8576b"
             ],
             [
              0.6666666666666666,
              "#ed7953"
             ],
             [
              0.7777777777777778,
              "#fb9f3a"
             ],
             [
              0.8888888888888888,
              "#fdca26"
             ],
             [
              1,
              "#f0f921"
             ]
            ],
            "type": "surface"
           }
          ],
          "table": [
           {
            "cells": {
             "fill": {
              "color": "#EBF0F8"
             },
             "line": {
              "color": "white"
             }
            },
            "header": {
             "fill": {
              "color": "#C8D4E3"
             },
             "line": {
              "color": "white"
             }
            },
            "type": "table"
           }
          ]
         },
         "layout": {
          "annotationdefaults": {
           "arrowcolor": "#2a3f5f",
           "arrowhead": 0,
           "arrowwidth": 1
          },
          "autotypenumbers": "strict",
          "coloraxis": {
           "colorbar": {
            "outlinewidth": 0,
            "ticks": ""
           }
          },
          "colorscale": {
           "diverging": [
            [
             0,
             "#8e0152"
            ],
            [
             0.1,
             "#c51b7d"
            ],
            [
             0.2,
             "#de77ae"
            ],
            [
             0.3,
             "#f1b6da"
            ],
            [
             0.4,
             "#fde0ef"
            ],
            [
             0.5,
             "#f7f7f7"
            ],
            [
             0.6,
             "#e6f5d0"
            ],
            [
             0.7,
             "#b8e186"
            ],
            [
             0.8,
             "#7fbc41"
            ],
            [
             0.9,
             "#4d9221"
            ],
            [
             1,
             "#276419"
            ]
           ],
           "sequential": [
            [
             0,
             "#0d0887"
            ],
            [
             0.1111111111111111,
             "#46039f"
            ],
            [
             0.2222222222222222,
             "#7201a8"
            ],
            [
             0.3333333333333333,
             "#9c179e"
            ],
            [
             0.4444444444444444,
             "#bd3786"
            ],
            [
             0.5555555555555556,
             "#d8576b"
            ],
            [
             0.6666666666666666,
             "#ed7953"
            ],
            [
             0.7777777777777778,
             "#fb9f3a"
            ],
            [
             0.8888888888888888,
             "#fdca26"
            ],
            [
             1,
             "#f0f921"
            ]
           ],
           "sequentialminus": [
            [
             0,
             "#0d0887"
            ],
            [
             0.1111111111111111,
             "#46039f"
            ],
            [
             0.2222222222222222,
             "#7201a8"
            ],
            [
             0.3333333333333333,
             "#9c179e"
            ],
            [
             0.4444444444444444,
             "#bd3786"
            ],
            [
             0.5555555555555556,
             "#d8576b"
            ],
            [
             0.6666666666666666,
             "#ed7953"
            ],
            [
             0.7777777777777778,
             "#fb9f3a"
            ],
            [
             0.8888888888888888,
             "#fdca26"
            ],
            [
             1,
             "#f0f921"
            ]
           ]
          },
          "colorway": [
           "#636efa",
           "#EF553B",
           "#00cc96",
           "#ab63fa",
           "#FFA15A",
           "#19d3f3",
           "#FF6692",
           "#B6E880",
           "#FF97FF",
           "#FECB52"
          ],
          "font": {
           "color": "#2a3f5f"
          },
          "geo": {
           "bgcolor": "white",
           "lakecolor": "white",
           "landcolor": "#E5ECF6",
           "showlakes": true,
           "showland": true,
           "subunitcolor": "white"
          },
          "hoverlabel": {
           "align": "left"
          },
          "hovermode": "closest",
          "mapbox": {
           "style": "light"
          },
          "paper_bgcolor": "white",
          "plot_bgcolor": "#E5ECF6",
          "polar": {
           "angularaxis": {
            "gridcolor": "white",
            "linecolor": "white",
            "ticks": ""
           },
           "bgcolor": "#E5ECF6",
           "radialaxis": {
            "gridcolor": "white",
            "linecolor": "white",
            "ticks": ""
           }
          },
          "scene": {
           "xaxis": {
            "backgroundcolor": "#E5ECF6",
            "gridcolor": "white",
            "gridwidth": 2,
            "linecolor": "white",
            "showbackground": true,
            "ticks": "",
            "zerolinecolor": "white"
           },
           "yaxis": {
            "backgroundcolor": "#E5ECF6",
            "gridcolor": "white",
            "gridwidth": 2,
            "linecolor": "white",
            "showbackground": true,
            "ticks": "",
            "zerolinecolor": "white"
           },
           "zaxis": {
            "backgroundcolor": "#E5ECF6",
            "gridcolor": "white",
            "gridwidth": 2,
            "linecolor": "white",
            "showbackground": true,
            "ticks": "",
            "zerolinecolor": "white"
           }
          },
          "shapedefaults": {
           "line": {
            "color": "#2a3f5f"
           }
          },
          "ternary": {
           "aaxis": {
            "gridcolor": "white",
            "linecolor": "white",
            "ticks": ""
           },
           "baxis": {
            "gridcolor": "white",
            "linecolor": "white",
            "ticks": ""
           },
           "bgcolor": "#E5ECF6",
           "caxis": {
            "gridcolor": "white",
            "linecolor": "white",
            "ticks": ""
           }
          },
          "title": {
           "x": 0.05
          },
          "xaxis": {
           "automargin": true,
           "gridcolor": "white",
           "linecolor": "white",
           "ticks": "",
           "title": {
            "standoff": 15
           },
           "zerolinecolor": "white",
           "zerolinewidth": 2
          },
          "yaxis": {
           "automargin": true,
           "gridcolor": "white",
           "linecolor": "white",
           "ticks": "",
           "title": {
            "standoff": 15
           },
           "zerolinecolor": "white",
           "zerolinewidth": 2
          }
         }
        },
        "title": {
         "text": "Exports"
        },
        "width": 1200
       }
      },
      "text/html": [
       "<div>                            <div id=\"ad5ab36e-8b40-4347-908c-ea5329d3602a\" class=\"plotly-graph-div\" style=\"height:800px; width:1200px;\"></div>            <script type=\"text/javascript\">                require([\"plotly\"], function(Plotly) {                    window.PLOTLYENV=window.PLOTLYENV || {};                                    if (document.getElementById(\"ad5ab36e-8b40-4347-908c-ea5329d3602a\")) {                    Plotly.newPlot(                        \"ad5ab36e-8b40-4347-908c-ea5329d3602a\",                        [{\"colorbar\": {\"title\": {\"text\": \"some title\"}}, \"colorscale\": [[0.0, \"lightgrey\"], [1.0, \"blue\"]], \"locationmode\": \"USA-states\", \"locations\": [\"AL\", \"AK\", \"AZ\", \"AR\", \"CA\", \"CO\", \"CT\", \"DE\", \"FL\", \"GA\", \"HI\", \"ID\", \"IL\", \"IN\", \"IA\", \"KS\", \"KY\", \"LA\", \"ME\", \"MD\", \"MA\", \"MI\", \"MN\", \"MS\", \"MO\", \"MT\", \"NE\", \"NV\", \"NH\", \"NJ\", \"NM\", \"NY\", \"NC\", \"ND\", \"OH\", \"OK\", \"OR\", \"PA\", \"RI\", \"SC\", \"SD\", \"TN\", \"TX\", \"UT\", \"VT\", \"VA\", \"WA\", \"WV\", \"WI\", \"WY\"], \"type\": \"choropleth\", \"z\": [34.9, 0.0, 7.3, 69.5, 34.6, 183.2, 0.0, 26.9, 3.5, 57.8, 0.0, 24.0, 2228.5, 1123.2, 2529.8, 457.3, 179.1, 91.4, 0.0, 54.1, 0.0, 381.5, 1264.3, 110.0, 428.8, 5.4, 1735.9, 0.0, 0.0, 10.1, 11.2, 106.1, 92.2, 236.1, 535.1, 27.5, 11.7, 112.1, 0.0, 32.1, 643.6, 88.8, 167.2, 5.3, 0.0, 39.5, 29.5, 3.5, 460.5, 9.0]}],                        {\"geo\": {\"scope\": \"usa\"}, \"height\": 800, \"template\": {\"data\": {\"bar\": [{\"error_x\": {\"color\": \"#2a3f5f\"}, \"error_y\": {\"color\": \"#2a3f5f\"}, \"marker\": {\"line\": {\"color\": \"#E5ECF6\", \"width\": 0.5}}, \"type\": \"bar\"}], \"barpolar\": [{\"marker\": {\"line\": {\"color\": \"#E5ECF6\", \"width\": 0.5}}, \"type\": \"barpolar\"}], \"carpet\": [{\"aaxis\": {\"endlinecolor\": \"#2a3f5f\", \"gridcolor\": \"white\", \"linecolor\": \"white\", \"minorgridcolor\": \"white\", \"startlinecolor\": \"#2a3f5f\"}, \"baxis\": {\"endlinecolor\": \"#2a3f5f\", \"gridcolor\": \"white\", \"linecolor\": \"white\", \"minorgridcolor\": \"white\", \"startlinecolor\": \"#2a3f5f\"}, \"type\": \"carpet\"}], \"choropleth\": [{\"colorbar\": {\"outlinewidth\": 0, \"ticks\": \"\"}, \"type\": \"choropleth\"}], \"contour\": [{\"colorbar\": {\"outlinewidth\": 0, \"ticks\": \"\"}, \"colorscale\": [[0.0, \"#0d0887\"], [0.1111111111111111, \"#46039f\"], [0.2222222222222222, \"#7201a8\"], [0.3333333333333333, \"#9c179e\"], [0.4444444444444444, \"#bd3786\"], [0.5555555555555556, \"#d8576b\"], [0.6666666666666666, \"#ed7953\"], [0.7777777777777778, \"#fb9f3a\"], [0.8888888888888888, \"#fdca26\"], [1.0, \"#f0f921\"]], \"type\": \"contour\"}], \"contourcarpet\": [{\"colorbar\": {\"outlinewidth\": 0, \"ticks\": \"\"}, \"type\": \"contourcarpet\"}], \"heatmap\": [{\"colorbar\": {\"outlinewidth\": 0, \"ticks\": \"\"}, \"colorscale\": [[0.0, \"#0d0887\"], [0.1111111111111111, \"#46039f\"], [0.2222222222222222, \"#7201a8\"], [0.3333333333333333, \"#9c179e\"], [0.4444444444444444, \"#bd3786\"], [0.5555555555555556, \"#d8576b\"], [0.6666666666666666, \"#ed7953\"], [0.7777777777777778, \"#fb9f3a\"], [0.8888888888888888, \"#fdca26\"], [1.0, \"#f0f921\"]], \"type\": \"heatmap\"}], \"heatmapgl\": [{\"colorbar\": {\"outlinewidth\": 0, \"ticks\": \"\"}, \"colorscale\": [[0.0, \"#0d0887\"], [0.1111111111111111, \"#46039f\"], [0.2222222222222222, \"#7201a8\"], [0.3333333333333333, \"#9c179e\"], [0.4444444444444444, \"#bd3786\"], [0.5555555555555556, \"#d8576b\"], [0.6666666666666666, \"#ed7953\"], [0.7777777777777778, \"#fb9f3a\"], [0.8888888888888888, \"#fdca26\"], [1.0, \"#f0f921\"]], \"type\": \"heatmapgl\"}], \"histogram\": [{\"marker\": {\"colorbar\": {\"outlinewidth\": 0, \"ticks\": \"\"}}, \"type\": \"histogram\"}], \"histogram2d\": [{\"colorbar\": {\"outlinewidth\": 0, \"ticks\": \"\"}, \"colorscale\": [[0.0, \"#0d0887\"], [0.1111111111111111, \"#46039f\"], [0.2222222222222222, \"#7201a8\"], [0.3333333333333333, \"#9c179e\"], [0.4444444444444444, \"#bd3786\"], [0.5555555555555556, \"#d8576b\"], [0.6666666666666666, \"#ed7953\"], [0.7777777777777778, \"#fb9f3a\"], [0.8888888888888888, \"#fdca26\"], [1.0, \"#f0f921\"]], \"type\": \"histogram2d\"}], \"histogram2dcontour\": [{\"colorbar\": {\"outlinewidth\": 0, \"ticks\": \"\"}, \"colorscale\": [[0.0, \"#0d0887\"], [0.1111111111111111, \"#46039f\"], [0.2222222222222222, \"#7201a8\"], [0.3333333333333333, \"#9c179e\"], [0.4444444444444444, \"#bd3786\"], [0.5555555555555556, \"#d8576b\"], [0.6666666666666666, \"#ed7953\"], [0.7777777777777778, \"#fb9f3a\"], [0.8888888888888888, \"#fdca26\"], [1.0, \"#f0f921\"]], \"type\": \"histogram2dcontour\"}], \"mesh3d\": [{\"colorbar\": {\"outlinewidth\": 0, \"ticks\": \"\"}, \"type\": \"mesh3d\"}], \"parcoords\": [{\"line\": {\"colorbar\": {\"outlinewidth\": 0, \"ticks\": \"\"}}, \"type\": \"parcoords\"}], \"pie\": [{\"automargin\": true, \"type\": \"pie\"}], \"scatter\": [{\"marker\": {\"colorbar\": {\"outlinewidth\": 0, \"ticks\": \"\"}}, \"type\": \"scatter\"}], \"scatter3d\": [{\"line\": {\"colorbar\": {\"outlinewidth\": 0, \"ticks\": \"\"}}, \"marker\": {\"colorbar\": {\"outlinewidth\": 0, \"ticks\": \"\"}}, \"type\": \"scatter3d\"}], \"scattercarpet\": [{\"marker\": {\"colorbar\": {\"outlinewidth\": 0, \"ticks\": \"\"}}, \"type\": \"scattercarpet\"}], \"scattergeo\": [{\"marker\": {\"colorbar\": {\"outlinewidth\": 0, \"ticks\": \"\"}}, \"type\": \"scattergeo\"}], \"scattergl\": [{\"marker\": {\"colorbar\": {\"outlinewidth\": 0, \"ticks\": \"\"}}, \"type\": \"scattergl\"}], \"scattermapbox\": [{\"marker\": {\"colorbar\": {\"outlinewidth\": 0, \"ticks\": \"\"}}, \"type\": \"scattermapbox\"}], \"scatterpolar\": [{\"marker\": {\"colorbar\": {\"outlinewidth\": 0, \"ticks\": \"\"}}, \"type\": \"scatterpolar\"}], \"scatterpolargl\": [{\"marker\": {\"colorbar\": {\"outlinewidth\": 0, \"ticks\": \"\"}}, \"type\": \"scatterpolargl\"}], \"scatterternary\": [{\"marker\": {\"colorbar\": {\"outlinewidth\": 0, \"ticks\": \"\"}}, \"type\": \"scatterternary\"}], \"surface\": [{\"colorbar\": {\"outlinewidth\": 0, \"ticks\": \"\"}, \"colorscale\": [[0.0, \"#0d0887\"], [0.1111111111111111, \"#46039f\"], [0.2222222222222222, \"#7201a8\"], [0.3333333333333333, \"#9c179e\"], [0.4444444444444444, \"#bd3786\"], [0.5555555555555556, \"#d8576b\"], [0.6666666666666666, \"#ed7953\"], [0.7777777777777778, \"#fb9f3a\"], [0.8888888888888888, \"#fdca26\"], [1.0, \"#f0f921\"]], \"type\": \"surface\"}], \"table\": [{\"cells\": {\"fill\": {\"color\": \"#EBF0F8\"}, \"line\": {\"color\": \"white\"}}, \"header\": {\"fill\": {\"color\": \"#C8D4E3\"}, \"line\": {\"color\": \"white\"}}, \"type\": \"table\"}]}, \"layout\": {\"annotationdefaults\": {\"arrowcolor\": \"#2a3f5f\", \"arrowhead\": 0, \"arrowwidth\": 1}, \"autotypenumbers\": \"strict\", \"coloraxis\": {\"colorbar\": {\"outlinewidth\": 0, \"ticks\": \"\"}}, \"colorscale\": {\"diverging\": [[0, \"#8e0152\"], [0.1, \"#c51b7d\"], [0.2, \"#de77ae\"], [0.3, \"#f1b6da\"], [0.4, \"#fde0ef\"], [0.5, \"#f7f7f7\"], [0.6, \"#e6f5d0\"], [0.7, \"#b8e186\"], [0.8, \"#7fbc41\"], [0.9, \"#4d9221\"], [1, \"#276419\"]], \"sequential\": [[0.0, \"#0d0887\"], [0.1111111111111111, \"#46039f\"], [0.2222222222222222, \"#7201a8\"], [0.3333333333333333, \"#9c179e\"], [0.4444444444444444, \"#bd3786\"], [0.5555555555555556, \"#d8576b\"], [0.6666666666666666, \"#ed7953\"], [0.7777777777777778, \"#fb9f3a\"], [0.8888888888888888, \"#fdca26\"], [1.0, \"#f0f921\"]], \"sequentialminus\": [[0.0, \"#0d0887\"], [0.1111111111111111, \"#46039f\"], [0.2222222222222222, \"#7201a8\"], [0.3333333333333333, \"#9c179e\"], [0.4444444444444444, \"#bd3786\"], [0.5555555555555556, \"#d8576b\"], [0.6666666666666666, \"#ed7953\"], [0.7777777777777778, \"#fb9f3a\"], [0.8888888888888888, \"#fdca26\"], [1.0, \"#f0f921\"]]}, \"colorway\": [\"#636efa\", \"#EF553B\", \"#00cc96\", \"#ab63fa\", \"#FFA15A\", \"#19d3f3\", \"#FF6692\", \"#B6E880\", \"#FF97FF\", \"#FECB52\"], \"font\": {\"color\": \"#2a3f5f\"}, \"geo\": {\"bgcolor\": \"white\", \"lakecolor\": \"white\", \"landcolor\": \"#E5ECF6\", \"showlakes\": true, \"showland\": true, \"subunitcolor\": \"white\"}, \"hoverlabel\": {\"align\": \"left\"}, \"hovermode\": \"closest\", \"mapbox\": {\"style\": \"light\"}, \"paper_bgcolor\": \"white\", \"plot_bgcolor\": \"#E5ECF6\", \"polar\": {\"angularaxis\": {\"gridcolor\": \"white\", \"linecolor\": \"white\", \"ticks\": \"\"}, \"bgcolor\": \"#E5ECF6\", \"radialaxis\": {\"gridcolor\": \"white\", \"linecolor\": \"white\", \"ticks\": \"\"}}, \"scene\": {\"xaxis\": {\"backgroundcolor\": \"#E5ECF6\", \"gridcolor\": \"white\", \"gridwidth\": 2, \"linecolor\": \"white\", \"showbackground\": true, \"ticks\": \"\", \"zerolinecolor\": \"white\"}, \"yaxis\": {\"backgroundcolor\": \"#E5ECF6\", \"gridcolor\": \"white\", \"gridwidth\": 2, \"linecolor\": \"white\", \"showbackground\": true, \"ticks\": \"\", \"zerolinecolor\": \"white\"}, \"zaxis\": {\"backgroundcolor\": \"#E5ECF6\", \"gridcolor\": \"white\", \"gridwidth\": 2, \"linecolor\": \"white\", \"showbackground\": true, \"ticks\": \"\", \"zerolinecolor\": \"white\"}}, \"shapedefaults\": {\"line\": {\"color\": \"#2a3f5f\"}}, \"ternary\": {\"aaxis\": {\"gridcolor\": \"white\", \"linecolor\": \"white\", \"ticks\": \"\"}, \"baxis\": {\"gridcolor\": \"white\", \"linecolor\": \"white\", \"ticks\": \"\"}, \"bgcolor\": \"#E5ECF6\", \"caxis\": {\"gridcolor\": \"white\", \"linecolor\": \"white\", \"ticks\": \"\"}}, \"title\": {\"x\": 0.05}, \"xaxis\": {\"automargin\": true, \"gridcolor\": \"white\", \"linecolor\": \"white\", \"ticks\": \"\", \"title\": {\"standoff\": 15}, \"zerolinecolor\": \"white\", \"zerolinewidth\": 2}, \"yaxis\": {\"automargin\": true, \"gridcolor\": \"white\", \"linecolor\": \"white\", \"ticks\": \"\", \"title\": {\"standoff\": 15}, \"zerolinecolor\": \"white\", \"zerolinewidth\": 2}}}, \"title\": {\"text\": \"Exports\"}, \"width\": 1200},                        {\"responsive\": true}                    ).then(function(){\n",
       "                            \n",
       "var gd = document.getElementById('ad5ab36e-8b40-4347-908c-ea5329d3602a');\n",
       "var x = new MutationObserver(function (mutations, observer) {{\n",
       "        var display = window.getComputedStyle(gd).display;\n",
       "        if (!display || display === 'none') {{\n",
       "            console.log([gd, 'removed!']);\n",
       "            Plotly.purge(gd);\n",
       "            observer.disconnect();\n",
       "        }}\n",
       "}});\n",
       "\n",
       "// Listen for the removal of the full notebook cells\n",
       "var notebookContainer = gd.closest('#notebook-container');\n",
       "if (notebookContainer) {{\n",
       "    x.observe(notebookContainer, {childList: true});\n",
       "}}\n",
       "\n",
       "// Listen for the clearing of the current output cell\n",
       "var outputEl = gd.closest('.output');\n",
       "if (outputEl) {{\n",
       "    x.observe(outputEl, {childList: true});\n",
       "}}\n",
       "\n",
       "                        })                };                });            </script>        </div>"
      ]
     },
     "metadata": {},
     "output_type": "display_data"
    }
   ],
   "source": [
    "fig = go.Figure([data])\n",
    "fig.update_layout(\n",
    "        title_text = 'Exports',\n",
    "        geo_scope='usa',\n",
    "        width=1200,\n",
    "        height=800\n",
    "    )\n",
    "fig.write_html('iowa-corn.html')\n",
    "fig"
   ]
  },
  {
   "cell_type": "code",
   "execution_count": 17,
   "metadata": {},
   "outputs": [],
   "source": [
    "# make a function that can intake any varname and produce a map.\n",
    "def make_figure(varname):\n",
    "    myheading1 = f\"Wow! That's a lot of {varname}!\"\n",
    "    mygraphtitle = f'2011 {varname} exports, by state'\n",
    "    mycolorscale = 'ylorrd' # Note: The error message will list possible color scales.\n",
    "    mycolorbartitle = \"Millions USD\"\n",
    "\n",
    "    data=go.Choropleth(\n",
    "        locations=df['code'], # Spatial coordinates\n",
    "        locationmode = 'USA-states', # set of locations match entries in `locations`\n",
    "        z = df[varname].astype(float), # Data to be color-coded\n",
    "        colorscale = mycolorscale,\n",
    "        colorbar_title = mycolorbartitle,\n",
    "    )\n",
    "\n",
    "\n",
    "    fig = go.Figure(data)\n",
    "    fig.update_layout(\n",
    "        title_text = mygraphtitle,\n",
    "        geo_scope='usa',\n",
    "        width=1200,\n",
    "        height=800\n",
    "    )\n",
    "    return fig"
   ]
  },
  {
   "cell_type": "code",
   "execution_count": 22,
   "metadata": {},
   "outputs": [
    {
     "data": {
      "application/vnd.plotly.v1+json": {
       "config": {
        "plotlyServerURL": "https://plot.ly"
       },
       "data": [
        {
         "colorbar": {
          "title": {
           "text": "Millions USD"
          }
         },
         "colorscale": [
          [
           0,
           "rgb(255,255,204)"
          ],
          [
           0.125,
           "rgb(255,237,160)"
          ],
          [
           0.25,
           "rgb(254,217,118)"
          ],
          [
           0.375,
           "rgb(254,178,76)"
          ],
          [
           0.5,
           "rgb(253,141,60)"
          ],
          [
           0.625,
           "rgb(252,78,42)"
          ],
          [
           0.75,
           "rgb(227,26,28)"
          ],
          [
           0.875,
           "rgb(189,0,38)"
          ],
          [
           1,
           "rgb(128,0,38)"
          ]
         ],
         "locationmode": "USA-states",
         "locations": [
          "AL",
          "AK",
          "AZ",
          "AR",
          "CA",
          "CO",
          "CT",
          "DE",
          "FL",
          "GA",
          "HI",
          "ID",
          "IL",
          "IN",
          "IA",
          "KS",
          "KY",
          "LA",
          "ME",
          "MD",
          "MA",
          "MI",
          "MN",
          "MS",
          "MO",
          "MT",
          "NE",
          "NV",
          "NH",
          "NJ",
          "NM",
          "NY",
          "NC",
          "ND",
          "OH",
          "OK",
          "OR",
          "PA",
          "RI",
          "SC",
          "SD",
          "TN",
          "TX",
          "UT",
          "VT",
          "VA",
          "WA",
          "WV",
          "WI",
          "WY"
         ],
         "type": "choropleth",
         "z": [
          10.6,
          0.1,
          17.9,
          29.4,
          11.1,
          66,
          0.1,
          0.6,
          0.9,
          18.9,
          0.7,
          0,
          394,
          341.9,
          1895.6,
          179.4,
          34.2,
          0.8,
          0.5,
          3.1,
          0.5,
          118.1,
          740.4,
          30.4,
          277.3,
          16.7,
          262.5,
          0.2,
          0.2,
          0.4,
          0.1,
          5.8,
          702.8,
          16.1,
          199.1,
          265.3,
          1.4,
          91.3,
          0.1,
          10.9,
          160.2,
          17.6,
          42.7,
          59,
          0.2,
          16.9,
          0,
          0.3,
          38.6,
          33.2
         ]
        }
       ],
       "layout": {
        "geo": {
         "scope": "usa"
        },
        "height": 800,
        "template": {
         "data": {
          "bar": [
           {
            "error_x": {
             "color": "#2a3f5f"
            },
            "error_y": {
             "color": "#2a3f5f"
            },
            "marker": {
             "line": {
              "color": "#E5ECF6",
              "width": 0.5
             }
            },
            "type": "bar"
           }
          ],
          "barpolar": [
           {
            "marker": {
             "line": {
              "color": "#E5ECF6",
              "width": 0.5
             }
            },
            "type": "barpolar"
           }
          ],
          "carpet": [
           {
            "aaxis": {
             "endlinecolor": "#2a3f5f",
             "gridcolor": "white",
             "linecolor": "white",
             "minorgridcolor": "white",
             "startlinecolor": "#2a3f5f"
            },
            "baxis": {
             "endlinecolor": "#2a3f5f",
             "gridcolor": "white",
             "linecolor": "white",
             "minorgridcolor": "white",
             "startlinecolor": "#2a3f5f"
            },
            "type": "carpet"
           }
          ],
          "choropleth": [
           {
            "colorbar": {
             "outlinewidth": 0,
             "ticks": ""
            },
            "type": "choropleth"
           }
          ],
          "contour": [
           {
            "colorbar": {
             "outlinewidth": 0,
             "ticks": ""
            },
            "colorscale": [
             [
              0,
              "#0d0887"
             ],
             [
              0.1111111111111111,
              "#46039f"
             ],
             [
              0.2222222222222222,
              "#7201a8"
             ],
             [
              0.3333333333333333,
              "#9c179e"
             ],
             [
              0.4444444444444444,
              "#bd3786"
             ],
             [
              0.5555555555555556,
              "#d8576b"
             ],
             [
              0.6666666666666666,
              "#ed7953"
             ],
             [
              0.7777777777777778,
              "#fb9f3a"
             ],
             [
              0.8888888888888888,
              "#fdca26"
             ],
             [
              1,
              "#f0f921"
             ]
            ],
            "type": "contour"
           }
          ],
          "contourcarpet": [
           {
            "colorbar": {
             "outlinewidth": 0,
             "ticks": ""
            },
            "type": "contourcarpet"
           }
          ],
          "heatmap": [
           {
            "colorbar": {
             "outlinewidth": 0,
             "ticks": ""
            },
            "colorscale": [
             [
              0,
              "#0d0887"
             ],
             [
              0.1111111111111111,
              "#46039f"
             ],
             [
              0.2222222222222222,
              "#7201a8"
             ],
             [
              0.3333333333333333,
              "#9c179e"
             ],
             [
              0.4444444444444444,
              "#bd3786"
             ],
             [
              0.5555555555555556,
              "#d8576b"
             ],
             [
              0.6666666666666666,
              "#ed7953"
             ],
             [
              0.7777777777777778,
              "#fb9f3a"
             ],
             [
              0.8888888888888888,
              "#fdca26"
             ],
             [
              1,
              "#f0f921"
             ]
            ],
            "type": "heatmap"
           }
          ],
          "heatmapgl": [
           {
            "colorbar": {
             "outlinewidth": 0,
             "ticks": ""
            },
            "colorscale": [
             [
              0,
              "#0d0887"
             ],
             [
              0.1111111111111111,
              "#46039f"
             ],
             [
              0.2222222222222222,
              "#7201a8"
             ],
             [
              0.3333333333333333,
              "#9c179e"
             ],
             [
              0.4444444444444444,
              "#bd3786"
             ],
             [
              0.5555555555555556,
              "#d8576b"
             ],
             [
              0.6666666666666666,
              "#ed7953"
             ],
             [
              0.7777777777777778,
              "#fb9f3a"
             ],
             [
              0.8888888888888888,
              "#fdca26"
             ],
             [
              1,
              "#f0f921"
             ]
            ],
            "type": "heatmapgl"
           }
          ],
          "histogram": [
           {
            "marker": {
             "colorbar": {
              "outlinewidth": 0,
              "ticks": ""
             }
            },
            "type": "histogram"
           }
          ],
          "histogram2d": [
           {
            "colorbar": {
             "outlinewidth": 0,
             "ticks": ""
            },
            "colorscale": [
             [
              0,
              "#0d0887"
             ],
             [
              0.1111111111111111,
              "#46039f"
             ],
             [
              0.2222222222222222,
              "#7201a8"
             ],
             [
              0.3333333333333333,
              "#9c179e"
             ],
             [
              0.4444444444444444,
              "#bd3786"
             ],
             [
              0.5555555555555556,
              "#d8576b"
             ],
             [
              0.6666666666666666,
              "#ed7953"
             ],
             [
              0.7777777777777778,
              "#fb9f3a"
             ],
             [
              0.8888888888888888,
              "#fdca26"
             ],
             [
              1,
              "#f0f921"
             ]
            ],
            "type": "histogram2d"
           }
          ],
          "histogram2dcontour": [
           {
            "colorbar": {
             "outlinewidth": 0,
             "ticks": ""
            },
            "colorscale": [
             [
              0,
              "#0d0887"
             ],
             [
              0.1111111111111111,
              "#46039f"
             ],
             [
              0.2222222222222222,
              "#7201a8"
             ],
             [
              0.3333333333333333,
              "#9c179e"
             ],
             [
              0.4444444444444444,
              "#bd3786"
             ],
             [
              0.5555555555555556,
              "#d8576b"
             ],
             [
              0.6666666666666666,
              "#ed7953"
             ],
             [
              0.7777777777777778,
              "#fb9f3a"
             ],
             [
              0.8888888888888888,
              "#fdca26"
             ],
             [
              1,
              "#f0f921"
             ]
            ],
            "type": "histogram2dcontour"
           }
          ],
          "mesh3d": [
           {
            "colorbar": {
             "outlinewidth": 0,
             "ticks": ""
            },
            "type": "mesh3d"
           }
          ],
          "parcoords": [
           {
            "line": {
             "colorbar": {
              "outlinewidth": 0,
              "ticks": ""
             }
            },
            "type": "parcoords"
           }
          ],
          "pie": [
           {
            "automargin": true,
            "type": "pie"
           }
          ],
          "scatter": [
           {
            "marker": {
             "colorbar": {
              "outlinewidth": 0,
              "ticks": ""
             }
            },
            "type": "scatter"
           }
          ],
          "scatter3d": [
           {
            "line": {
             "colorbar": {
              "outlinewidth": 0,
              "ticks": ""
             }
            },
            "marker": {
             "colorbar": {
              "outlinewidth": 0,
              "ticks": ""
             }
            },
            "type": "scatter3d"
           }
          ],
          "scattercarpet": [
           {
            "marker": {
             "colorbar": {
              "outlinewidth": 0,
              "ticks": ""
             }
            },
            "type": "scattercarpet"
           }
          ],
          "scattergeo": [
           {
            "marker": {
             "colorbar": {
              "outlinewidth": 0,
              "ticks": ""
             }
            },
            "type": "scattergeo"
           }
          ],
          "scattergl": [
           {
            "marker": {
             "colorbar": {
              "outlinewidth": 0,
              "ticks": ""
             }
            },
            "type": "scattergl"
           }
          ],
          "scattermapbox": [
           {
            "marker": {
             "colorbar": {
              "outlinewidth": 0,
              "ticks": ""
             }
            },
            "type": "scattermapbox"
           }
          ],
          "scatterpolar": [
           {
            "marker": {
             "colorbar": {
              "outlinewidth": 0,
              "ticks": ""
             }
            },
            "type": "scatterpolar"
           }
          ],
          "scatterpolargl": [
           {
            "marker": {
             "colorbar": {
              "outlinewidth": 0,
              "ticks": ""
             }
            },
            "type": "scatterpolargl"
           }
          ],
          "scatterternary": [
           {
            "marker": {
             "colorbar": {
              "outlinewidth": 0,
              "ticks": ""
             }
            },
            "type": "scatterternary"
           }
          ],
          "surface": [
           {
            "colorbar": {
             "outlinewidth": 0,
             "ticks": ""
            },
            "colorscale": [
             [
              0,
              "#0d0887"
             ],
             [
              0.1111111111111111,
              "#46039f"
             ],
             [
              0.2222222222222222,
              "#7201a8"
             ],
             [
              0.3333333333333333,
              "#9c179e"
             ],
             [
              0.4444444444444444,
              "#bd3786"
             ],
             [
              0.5555555555555556,
              "#d8576b"
             ],
             [
              0.6666666666666666,
              "#ed7953"
             ],
             [
              0.7777777777777778,
              "#fb9f3a"
             ],
             [
              0.8888888888888888,
              "#fdca26"
             ],
             [
              1,
              "#f0f921"
             ]
            ],
            "type": "surface"
           }
          ],
          "table": [
           {
            "cells": {
             "fill": {
              "color": "#EBF0F8"
             },
             "line": {
              "color": "white"
             }
            },
            "header": {
             "fill": {
              "color": "#C8D4E3"
             },
             "line": {
              "color": "white"
             }
            },
            "type": "table"
           }
          ]
         },
         "layout": {
          "annotationdefaults": {
           "arrowcolor": "#2a3f5f",
           "arrowhead": 0,
           "arrowwidth": 1
          },
          "autotypenumbers": "strict",
          "coloraxis": {
           "colorbar": {
            "outlinewidth": 0,
            "ticks": ""
           }
          },
          "colorscale": {
           "diverging": [
            [
             0,
             "#8e0152"
            ],
            [
             0.1,
             "#c51b7d"
            ],
            [
             0.2,
             "#de77ae"
            ],
            [
             0.3,
             "#f1b6da"
            ],
            [
             0.4,
             "#fde0ef"
            ],
            [
             0.5,
             "#f7f7f7"
            ],
            [
             0.6,
             "#e6f5d0"
            ],
            [
             0.7,
             "#b8e186"
            ],
            [
             0.8,
             "#7fbc41"
            ],
            [
             0.9,
             "#4d9221"
            ],
            [
             1,
             "#276419"
            ]
           ],
           "sequential": [
            [
             0,
             "#0d0887"
            ],
            [
             0.1111111111111111,
             "#46039f"
            ],
            [
             0.2222222222222222,
             "#7201a8"
            ],
            [
             0.3333333333333333,
             "#9c179e"
            ],
            [
             0.4444444444444444,
             "#bd3786"
            ],
            [
             0.5555555555555556,
             "#d8576b"
            ],
            [
             0.6666666666666666,
             "#ed7953"
            ],
            [
             0.7777777777777778,
             "#fb9f3a"
            ],
            [
             0.8888888888888888,
             "#fdca26"
            ],
            [
             1,
             "#f0f921"
            ]
           ],
           "sequentialminus": [
            [
             0,
             "#0d0887"
            ],
            [
             0.1111111111111111,
             "#46039f"
            ],
            [
             0.2222222222222222,
             "#7201a8"
            ],
            [
             0.3333333333333333,
             "#9c179e"
            ],
            [
             0.4444444444444444,
             "#bd3786"
            ],
            [
             0.5555555555555556,
             "#d8576b"
            ],
            [
             0.6666666666666666,
             "#ed7953"
            ],
            [
             0.7777777777777778,
             "#fb9f3a"
            ],
            [
             0.8888888888888888,
             "#fdca26"
            ],
            [
             1,
             "#f0f921"
            ]
           ]
          },
          "colorway": [
           "#636efa",
           "#EF553B",
           "#00cc96",
           "#ab63fa",
           "#FFA15A",
           "#19d3f3",
           "#FF6692",
           "#B6E880",
           "#FF97FF",
           "#FECB52"
          ],
          "font": {
           "color": "#2a3f5f"
          },
          "geo": {
           "bgcolor": "white",
           "lakecolor": "white",
           "landcolor": "#E5ECF6",
           "showlakes": true,
           "showland": true,
           "subunitcolor": "white"
          },
          "hoverlabel": {
           "align": "left"
          },
          "hovermode": "closest",
          "mapbox": {
           "style": "light"
          },
          "paper_bgcolor": "white",
          "plot_bgcolor": "#E5ECF6",
          "polar": {
           "angularaxis": {
            "gridcolor": "white",
            "linecolor": "white",
            "ticks": ""
           },
           "bgcolor": "#E5ECF6",
           "radialaxis": {
            "gridcolor": "white",
            "linecolor": "white",
            "ticks": ""
           }
          },
          "scene": {
           "xaxis": {
            "backgroundcolor": "#E5ECF6",
            "gridcolor": "white",
            "gridwidth": 2,
            "linecolor": "white",
            "showbackground": true,
            "ticks": "",
            "zerolinecolor": "white"
           },
           "yaxis": {
            "backgroundcolor": "#E5ECF6",
            "gridcolor": "white",
            "gridwidth": 2,
            "linecolor": "white",
            "showbackground": true,
            "ticks": "",
            "zerolinecolor": "white"
           },
           "zaxis": {
            "backgroundcolor": "#E5ECF6",
            "gridcolor": "white",
            "gridwidth": 2,
            "linecolor": "white",
            "showbackground": true,
            "ticks": "",
            "zerolinecolor": "white"
           }
          },
          "shapedefaults": {
           "line": {
            "color": "#2a3f5f"
           }
          },
          "ternary": {
           "aaxis": {
            "gridcolor": "white",
            "linecolor": "white",
            "ticks": ""
           },
           "baxis": {
            "gridcolor": "white",
            "linecolor": "white",
            "ticks": ""
           },
           "bgcolor": "#E5ECF6",
           "caxis": {
            "gridcolor": "white",
            "linecolor": "white",
            "ticks": ""
           }
          },
          "title": {
           "x": 0.05
          },
          "xaxis": {
           "automargin": true,
           "gridcolor": "white",
           "linecolor": "white",
           "ticks": "",
           "title": {
            "standoff": 15
           },
           "zerolinecolor": "white",
           "zerolinewidth": 2
          },
          "yaxis": {
           "automargin": true,
           "gridcolor": "white",
           "linecolor": "white",
           "ticks": "",
           "title": {
            "standoff": 15
           },
           "zerolinecolor": "white",
           "zerolinewidth": 2
          }
         }
        },
        "title": {
         "text": "2011 pork exports, by state"
        },
        "width": 1200
       }
      },
      "image/png": "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",
      "text/html": [
       "<div>                            <div id=\"c2bb78c4-be31-4c06-af29-182824a693a1\" class=\"plotly-graph-div\" style=\"height:800px; width:1200px;\"></div>            <script type=\"text/javascript\">                require([\"plotly\"], function(Plotly) {                    window.PLOTLYENV=window.PLOTLYENV || {};                                    if (document.getElementById(\"c2bb78c4-be31-4c06-af29-182824a693a1\")) {                    Plotly.newPlot(                        \"c2bb78c4-be31-4c06-af29-182824a693a1\",                        [{\"colorbar\": {\"title\": {\"text\": \"Millions USD\"}}, \"colorscale\": [[0.0, \"rgb(255,255,204)\"], [0.125, \"rgb(255,237,160)\"], [0.25, \"rgb(254,217,118)\"], [0.375, \"rgb(254,178,76)\"], [0.5, \"rgb(253,141,60)\"], [0.625, \"rgb(252,78,42)\"], [0.75, \"rgb(227,26,28)\"], [0.875, \"rgb(189,0,38)\"], [1.0, \"rgb(128,0,38)\"]], \"locationmode\": \"USA-states\", \"locations\": [\"AL\", \"AK\", \"AZ\", \"AR\", \"CA\", \"CO\", \"CT\", \"DE\", \"FL\", \"GA\", \"HI\", \"ID\", \"IL\", \"IN\", \"IA\", \"KS\", \"KY\", \"LA\", \"ME\", \"MD\", \"MA\", \"MI\", \"MN\", \"MS\", \"MO\", \"MT\", \"NE\", \"NV\", \"NH\", \"NJ\", \"NM\", \"NY\", \"NC\", \"ND\", \"OH\", \"OK\", \"OR\", \"PA\", \"RI\", \"SC\", \"SD\", \"TN\", \"TX\", \"UT\", \"VT\", \"VA\", \"WA\", \"WV\", \"WI\", \"WY\"], \"type\": \"choropleth\", \"z\": [10.6, 0.1, 17.9, 29.4, 11.1, 66.0, 0.1, 0.6, 0.9, 18.9, 0.7, 0.0, 394.0, 341.9, 1895.6, 179.4, 34.2, 0.8, 0.5, 3.1, 0.5, 118.1, 740.4, 30.4, 277.3, 16.7, 262.5, 0.2, 0.2, 0.4, 0.1, 5.8, 702.8, 16.1, 199.1, 265.3, 1.4, 91.3, 0.1, 10.9, 160.2, 17.6, 42.7, 59.0, 0.2, 16.9, 0.0, 0.3, 38.6, 33.2]}],                        {\"geo\": {\"scope\": \"usa\"}, \"height\": 800, \"template\": {\"data\": {\"bar\": [{\"error_x\": {\"color\": \"#2a3f5f\"}, \"error_y\": {\"color\": \"#2a3f5f\"}, \"marker\": {\"line\": {\"color\": \"#E5ECF6\", \"width\": 0.5}}, \"type\": \"bar\"}], \"barpolar\": [{\"marker\": {\"line\": {\"color\": \"#E5ECF6\", \"width\": 0.5}}, \"type\": \"barpolar\"}], \"carpet\": [{\"aaxis\": {\"endlinecolor\": \"#2a3f5f\", \"gridcolor\": \"white\", \"linecolor\": \"white\", \"minorgridcolor\": \"white\", \"startlinecolor\": \"#2a3f5f\"}, \"baxis\": {\"endlinecolor\": \"#2a3f5f\", \"gridcolor\": \"white\", \"linecolor\": \"white\", \"minorgridcolor\": \"white\", \"startlinecolor\": \"#2a3f5f\"}, \"type\": \"carpet\"}], \"choropleth\": [{\"colorbar\": {\"outlinewidth\": 0, \"ticks\": \"\"}, \"type\": \"choropleth\"}], \"contour\": [{\"colorbar\": {\"outlinewidth\": 0, \"ticks\": \"\"}, \"colorscale\": [[0.0, \"#0d0887\"], [0.1111111111111111, \"#46039f\"], [0.2222222222222222, \"#7201a8\"], [0.3333333333333333, \"#9c179e\"], [0.4444444444444444, \"#bd3786\"], [0.5555555555555556, \"#d8576b\"], [0.6666666666666666, \"#ed7953\"], [0.7777777777777778, \"#fb9f3a\"], [0.8888888888888888, \"#fdca26\"], [1.0, \"#f0f921\"]], \"type\": \"contour\"}], \"contourcarpet\": [{\"colorbar\": {\"outlinewidth\": 0, \"ticks\": \"\"}, \"type\": \"contourcarpet\"}], \"heatmap\": [{\"colorbar\": {\"outlinewidth\": 0, \"ticks\": \"\"}, \"colorscale\": [[0.0, \"#0d0887\"], [0.1111111111111111, \"#46039f\"], [0.2222222222222222, \"#7201a8\"], [0.3333333333333333, \"#9c179e\"], [0.4444444444444444, \"#bd3786\"], [0.5555555555555556, \"#d8576b\"], [0.6666666666666666, \"#ed7953\"], [0.7777777777777778, \"#fb9f3a\"], [0.8888888888888888, \"#fdca26\"], [1.0, \"#f0f921\"]], \"type\": \"heatmap\"}], \"heatmapgl\": [{\"colorbar\": {\"outlinewidth\": 0, \"ticks\": \"\"}, \"colorscale\": [[0.0, \"#0d0887\"], [0.1111111111111111, \"#46039f\"], [0.2222222222222222, \"#7201a8\"], [0.3333333333333333, \"#9c179e\"], [0.4444444444444444, \"#bd3786\"], [0.5555555555555556, \"#d8576b\"], [0.6666666666666666, \"#ed7953\"], [0.7777777777777778, \"#fb9f3a\"], [0.8888888888888888, \"#fdca26\"], [1.0, \"#f0f921\"]], \"type\": \"heatmapgl\"}], \"histogram\": [{\"marker\": {\"colorbar\": {\"outlinewidth\": 0, \"ticks\": \"\"}}, \"type\": \"histogram\"}], \"histogram2d\": [{\"colorbar\": {\"outlinewidth\": 0, \"ticks\": \"\"}, \"colorscale\": [[0.0, \"#0d0887\"], [0.1111111111111111, \"#46039f\"], [0.2222222222222222, \"#7201a8\"], [0.3333333333333333, \"#9c179e\"], [0.4444444444444444, \"#bd3786\"], [0.5555555555555556, \"#d8576b\"], [0.6666666666666666, \"#ed7953\"], [0.7777777777777778, \"#fb9f3a\"], [0.8888888888888888, \"#fdca26\"], [1.0, \"#f0f921\"]], \"type\": \"histogram2d\"}], \"histogram2dcontour\": [{\"colorbar\": {\"outlinewidth\": 0, \"ticks\": \"\"}, \"colorscale\": [[0.0, \"#0d0887\"], [0.1111111111111111, \"#46039f\"], [0.2222222222222222, \"#7201a8\"], [0.3333333333333333, \"#9c179e\"], [0.4444444444444444, \"#bd3786\"], [0.5555555555555556, \"#d8576b\"], [0.6666666666666666, \"#ed7953\"], [0.7777777777777778, \"#fb9f3a\"], [0.8888888888888888, \"#fdca26\"], [1.0, \"#f0f921\"]], \"type\": \"histogram2dcontour\"}], \"mesh3d\": [{\"colorbar\": {\"outlinewidth\": 0, \"ticks\": \"\"}, \"type\": \"mesh3d\"}], \"parcoords\": [{\"line\": {\"colorbar\": {\"outlinewidth\": 0, \"ticks\": \"\"}}, \"type\": \"parcoords\"}], \"pie\": [{\"automargin\": true, \"type\": \"pie\"}], \"scatter\": [{\"marker\": {\"colorbar\": {\"outlinewidth\": 0, \"ticks\": \"\"}}, \"type\": \"scatter\"}], \"scatter3d\": [{\"line\": {\"colorbar\": {\"outlinewidth\": 0, \"ticks\": \"\"}}, \"marker\": {\"colorbar\": {\"outlinewidth\": 0, \"ticks\": \"\"}}, \"type\": \"scatter3d\"}], \"scattercarpet\": [{\"marker\": {\"colorbar\": {\"outlinewidth\": 0, \"ticks\": \"\"}}, \"type\": \"scattercarpet\"}], \"scattergeo\": [{\"marker\": {\"colorbar\": {\"outlinewidth\": 0, \"ticks\": \"\"}}, \"type\": \"scattergeo\"}], \"scattergl\": [{\"marker\": {\"colorbar\": {\"outlinewidth\": 0, \"ticks\": \"\"}}, \"type\": \"scattergl\"}], \"scattermapbox\": [{\"marker\": {\"colorbar\": {\"outlinewidth\": 0, \"ticks\": \"\"}}, \"type\": \"scattermapbox\"}], \"scatterpolar\": [{\"marker\": {\"colorbar\": {\"outlinewidth\": 0, \"ticks\": \"\"}}, \"type\": \"scatterpolar\"}], \"scatterpolargl\": [{\"marker\": {\"colorbar\": {\"outlinewidth\": 0, \"ticks\": \"\"}}, \"type\": \"scatterpolargl\"}], \"scatterternary\": [{\"marker\": {\"colorbar\": {\"outlinewidth\": 0, \"ticks\": \"\"}}, \"type\": \"scatterternary\"}], \"surface\": [{\"colorbar\": {\"outlinewidth\": 0, \"ticks\": \"\"}, \"colorscale\": [[0.0, \"#0d0887\"], [0.1111111111111111, \"#46039f\"], [0.2222222222222222, \"#7201a8\"], [0.3333333333333333, \"#9c179e\"], [0.4444444444444444, \"#bd3786\"], [0.5555555555555556, \"#d8576b\"], [0.6666666666666666, \"#ed7953\"], [0.7777777777777778, \"#fb9f3a\"], [0.8888888888888888, \"#fdca26\"], [1.0, \"#f0f921\"]], \"type\": \"surface\"}], \"table\": [{\"cells\": {\"fill\": {\"color\": \"#EBF0F8\"}, \"line\": {\"color\": \"white\"}}, \"header\": {\"fill\": {\"color\": \"#C8D4E3\"}, \"line\": {\"color\": \"white\"}}, \"type\": \"table\"}]}, \"layout\": {\"annotationdefaults\": {\"arrowcolor\": \"#2a3f5f\", \"arrowhead\": 0, \"arrowwidth\": 1}, \"autotypenumbers\": \"strict\", \"coloraxis\": {\"colorbar\": {\"outlinewidth\": 0, \"ticks\": \"\"}}, \"colorscale\": {\"diverging\": [[0, \"#8e0152\"], [0.1, \"#c51b7d\"], [0.2, \"#de77ae\"], [0.3, \"#f1b6da\"], [0.4, \"#fde0ef\"], [0.5, \"#f7f7f7\"], [0.6, \"#e6f5d0\"], [0.7, \"#b8e186\"], [0.8, \"#7fbc41\"], [0.9, \"#4d9221\"], [1, \"#276419\"]], \"sequential\": [[0.0, \"#0d0887\"], [0.1111111111111111, \"#46039f\"], [0.2222222222222222, \"#7201a8\"], [0.3333333333333333, \"#9c179e\"], [0.4444444444444444, \"#bd3786\"], [0.5555555555555556, \"#d8576b\"], [0.6666666666666666, \"#ed7953\"], [0.7777777777777778, \"#fb9f3a\"], [0.8888888888888888, \"#fdca26\"], [1.0, \"#f0f921\"]], \"sequentialminus\": [[0.0, \"#0d0887\"], [0.1111111111111111, \"#46039f\"], [0.2222222222222222, \"#7201a8\"], [0.3333333333333333, \"#9c179e\"], [0.4444444444444444, \"#bd3786\"], [0.5555555555555556, \"#d8576b\"], [0.6666666666666666, \"#ed7953\"], [0.7777777777777778, \"#fb9f3a\"], [0.8888888888888888, \"#fdca26\"], [1.0, \"#f0f921\"]]}, \"colorway\": [\"#636efa\", \"#EF553B\", \"#00cc96\", \"#ab63fa\", \"#FFA15A\", \"#19d3f3\", \"#FF6692\", \"#B6E880\", \"#FF97FF\", \"#FECB52\"], \"font\": {\"color\": \"#2a3f5f\"}, \"geo\": {\"bgcolor\": \"white\", \"lakecolor\": \"white\", \"landcolor\": \"#E5ECF6\", \"showlakes\": true, \"showland\": true, \"subunitcolor\": \"white\"}, \"hoverlabel\": {\"align\": \"left\"}, \"hovermode\": \"closest\", \"mapbox\": {\"style\": \"light\"}, \"paper_bgcolor\": \"white\", \"plot_bgcolor\": \"#E5ECF6\", \"polar\": {\"angularaxis\": {\"gridcolor\": \"white\", \"linecolor\": \"white\", \"ticks\": \"\"}, \"bgcolor\": \"#E5ECF6\", \"radialaxis\": {\"gridcolor\": \"white\", \"linecolor\": \"white\", \"ticks\": \"\"}}, \"scene\": {\"xaxis\": {\"backgroundcolor\": \"#E5ECF6\", \"gridcolor\": \"white\", \"gridwidth\": 2, \"linecolor\": \"white\", \"showbackground\": true, \"ticks\": \"\", \"zerolinecolor\": \"white\"}, \"yaxis\": {\"backgroundcolor\": \"#E5ECF6\", \"gridcolor\": \"white\", \"gridwidth\": 2, \"linecolor\": \"white\", \"showbackground\": true, \"ticks\": \"\", \"zerolinecolor\": \"white\"}, \"zaxis\": {\"backgroundcolor\": \"#E5ECF6\", \"gridcolor\": \"white\", \"gridwidth\": 2, \"linecolor\": \"white\", \"showbackground\": true, \"ticks\": \"\", \"zerolinecolor\": \"white\"}}, \"shapedefaults\": {\"line\": {\"color\": \"#2a3f5f\"}}, \"ternary\": {\"aaxis\": {\"gridcolor\": \"white\", \"linecolor\": \"white\", \"ticks\": \"\"}, \"baxis\": {\"gridcolor\": \"white\", \"linecolor\": \"white\", \"ticks\": \"\"}, \"bgcolor\": \"#E5ECF6\", \"caxis\": {\"gridcolor\": \"white\", \"linecolor\": \"white\", \"ticks\": \"\"}}, \"title\": {\"x\": 0.05}, \"xaxis\": {\"automargin\": true, \"gridcolor\": \"white\", \"linecolor\": \"white\", \"ticks\": \"\", \"title\": {\"standoff\": 15}, \"zerolinecolor\": \"white\", \"zerolinewidth\": 2}, \"yaxis\": {\"automargin\": true, \"gridcolor\": \"white\", \"linecolor\": \"white\", \"ticks\": \"\", \"title\": {\"standoff\": 15}, \"zerolinecolor\": \"white\", \"zerolinewidth\": 2}}}, \"title\": {\"text\": \"2011 pork exports, by state\"}, \"width\": 1200},                        {\"responsive\": true}                    ).then(function(){\n",
       "                            \n",
       "var gd = document.getElementById('c2bb78c4-be31-4c06-af29-182824a693a1');\n",
       "var x = new MutationObserver(function (mutations, observer) {{\n",
       "        var display = window.getComputedStyle(gd).display;\n",
       "        if (!display || display === 'none') {{\n",
       "            console.log([gd, 'removed!']);\n",
       "            Plotly.purge(gd);\n",
       "            observer.disconnect();\n",
       "        }}\n",
       "}});\n",
       "\n",
       "// Listen for the removal of the full notebook cells\n",
       "var notebookContainer = gd.closest('#notebook-container');\n",
       "if (notebookContainer) {{\n",
       "    x.observe(notebookContainer, {childList: true});\n",
       "}}\n",
       "\n",
       "// Listen for the clearing of the current output cell\n",
       "var outputEl = gd.closest('.output');\n",
       "if (outputEl) {{\n",
       "    x.observe(outputEl, {childList: true});\n",
       "}}\n",
       "\n",
       "                        })                };                });            </script>        </div>"
      ]
     },
     "metadata": {},
     "output_type": "display_data"
    }
   ],
   "source": [
    "fig=make_figure('beef')\n",
    "fig"
   ]
  },
  {
   "cell_type": "code",
   "execution_count": null,
   "metadata": {},
   "outputs": [],
   "source": []
  }
 ],
 "metadata": {
  "kernelspec": {
   "display_name": "default:Python",
   "language": "python",
   "name": "conda-env-default-py"
  },
  "language_info": {
   "codemirror_mode": {
    "name": "ipython",
    "version": 3
   },
   "file_extension": ".py",
   "mimetype": "text/x-python",
   "name": "python",
   "nbconvert_exporter": "python",
   "pygments_lexer": "ipython3",
   "version": "3.9.13"
  }
 },
 "nbformat": 4,
 "nbformat_minor": 4
}
